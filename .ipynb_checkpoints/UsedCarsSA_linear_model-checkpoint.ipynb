{
 "cells": [
  {
   "cell_type": "code",
   "execution_count": 50,
   "metadata": {
    "id": "DZK8WiXmAHzJ",
    "tags": []
   },
   "outputs": [],
   "source": [
    "import pandas as pd\n",
    "import numpy as np\n",
    "import matplotlib.pyplot as plt"
   ]
  },
  {
   "cell_type": "code",
   "execution_count": 51,
   "metadata": {
    "id": "Z2910BC1QGW-",
    "tags": []
   },
   "outputs": [],
   "source": [
    "UsedCarsSA = pd.read_csv('UsedCarsSA_Unclean_EN.csv')"
   ]
  },
  {
   "cell_type": "code",
   "execution_count": 52,
   "metadata": {
    "colab": {
     "base_uri": "https://localhost:8080/"
    },
    "id": "Raeu9SXURL6h",
    "outputId": "014f87be-e2d0-4ddf-ee70-1189d39e5398",
    "tags": []
   },
   "outputs": [
    {
     "name": "stdout",
     "output_type": "stream",
     "text": [
      "<class 'pandas.core.frame.DataFrame'>\n",
      "RangeIndex: 8248 entries, 0 to 8247\n",
      "Data columns (total 15 columns):\n",
      " #   Column       Non-Null Count  Dtype  \n",
      "---  ------       --------------  -----  \n",
      " 0   Link         8248 non-null   object \n",
      " 1   Make         8248 non-null   object \n",
      " 2   Type         8248 non-null   object \n",
      " 3   Year         8248 non-null   int64  \n",
      " 4   Origin       8153 non-null   object \n",
      " 5   Color        8248 non-null   object \n",
      " 6   Options      8139 non-null   object \n",
      " 7   Engine_Size  5982 non-null   float64\n",
      " 8   Fuel_Type    8248 non-null   object \n",
      " 9   Gear_Type    8174 non-null   object \n",
      " 10  Condition    8248 non-null   object \n",
      " 11  Mileage      8248 non-null   int64  \n",
      " 12  Region       8248 non-null   object \n",
      " 13  Price        8248 non-null   object \n",
      " 14  Negotiable   8248 non-null   bool   \n",
      "dtypes: bool(1), float64(1), int64(2), object(11)\n",
      "memory usage: 910.3+ KB\n"
     ]
    }
   ],
   "source": [
    "UsedCarsSA.info()"
   ]
  },
  {
   "cell_type": "code",
   "execution_count": 53,
   "metadata": {
    "colab": {
     "base_uri": "https://localhost:8080/"
    },
    "id": "7zAJBMl3Rmv9",
    "outputId": "9d0b86d7-b8c5-42da-d99a-13761cc8d6f6",
    "tags": []
   },
   "outputs": [
    {
     "data": {
      "text/plain": [
       "Link              0\n",
       "Make              0\n",
       "Type              0\n",
       "Year              0\n",
       "Origin           95\n",
       "Color             0\n",
       "Options         109\n",
       "Engine_Size    2266\n",
       "Fuel_Type         0\n",
       "Gear_Type        74\n",
       "Condition         0\n",
       "Mileage           0\n",
       "Region            0\n",
       "Price             0\n",
       "Negotiable        0\n",
       "dtype: int64"
      ]
     },
     "execution_count": 53,
     "metadata": {},
     "output_type": "execute_result"
    }
   ],
   "source": [
    "UsedCarsSA.isnull().sum()"
   ]
  },
  {
   "cell_type": "code",
   "execution_count": 54,
   "metadata": {
    "tags": []
   },
   "outputs": [
    {
     "data": {
      "text/plain": [
       "0       False\n",
       "1        True\n",
       "2       False\n",
       "3       False\n",
       "4       False\n",
       "        ...  \n",
       "8243    False\n",
       "8244    False\n",
       "8245     True\n",
       "8246    False\n",
       "8247    False\n",
       "Name: Negotiable, Length: 8248, dtype: bool"
      ]
     },
     "execution_count": 54,
     "metadata": {},
     "output_type": "execute_result"
    }
   ],
   "source": [
    "UsedCarsSA['Negotiable']"
   ]
  },
  {
   "cell_type": "code",
   "execution_count": 55,
   "metadata": {
    "id": "akEWoiNrrHGT",
    "tags": []
   },
   "outputs": [],
   "source": [
    "UsedCarsSA = UsedCarsSA.assign(Engine_Size_isnull = UsedCarsSA['Engine_Size'].isnull())\n",
    "UsedCarsSA['Engine_Size_isnull'] = UsedCarsSA['Engine_Size_isnull'].astype('int64')\n",
    "UsedCarsSA.drop('Link', axis=1,inplace=True)\n",
    "\n",
    "UsedCarsSA['Options_isnull'] = np.where(UsedCarsSA['Options'].isnull(),1,0)"
   ]
  },
  {
   "cell_type": "code",
   "execution_count": 56,
   "metadata": {
    "colab": {
     "base_uri": "https://localhost:8080/"
    },
    "id": "ysFI_yKAfuZm",
    "outputId": "d75c1f58-0849-49a9-e993-d28bf9223d57",
    "tags": []
   },
   "outputs": [
    {
     "data": {
      "text/plain": [
       "0"
      ]
     },
     "execution_count": 56,
     "metadata": {},
     "output_type": "execute_result"
    }
   ],
   "source": [
    "UsedCarsSA['Price'].replace('Negotiable', np.nan ,inplace = True)\n",
    "UsedCarsSA['Price'] = UsedCarsSA['Price'].astype('float64')\n",
    "\n",
    "UsedCarsSA['Price'] = UsedCarsSA.groupby(['Type', 'Options', 'Year'])['Price'].transform(lambda x: x.fillna(x.mean()))\n",
    "\n",
    "UsedCarsSA['Price'] = UsedCarsSA['Price'].fillna(UsedCarsSA['Price'].mean())\n",
    "UsedCarsSA['Price'].isna().sum()"
   ]
  },
  {
   "cell_type": "code",
   "execution_count": 57,
   "metadata": {
    "colab": {
     "base_uri": "https://localhost:8080/"
    },
    "id": "He7aY2LSUdZ0",
    "outputId": "51265894-1da8-4279-a0dc-b61a18da59b2",
    "tags": []
   },
   "outputs": [
    {
     "data": {
      "text/plain": [
       "Gear_Type\n",
       "Automatic    7069\n",
       "Manual       1105\n",
       "Name: count, dtype: int64"
      ]
     },
     "execution_count": 57,
     "metadata": {},
     "output_type": "execute_result"
    }
   ],
   "source": [
    "UsedCarsSA['Gear_Type'].value_counts()"
   ]
  },
  {
   "cell_type": "code",
   "execution_count": 58,
   "metadata": {
    "id": "w71di9nASoh2",
    "tags": []
   },
   "outputs": [],
   "source": [
    "UsedCarsSA['Origin'].replace(np.nan,'Saudi',inplace=True)\n",
    "UsedCarsSA['Options'].replace(np.nan,'Full',inplace=True)\n",
    "UsedCarsSA['Gear_Type'].replace(np.nan,'Automatic',inplace=True)"
   ]
  },
  {
   "cell_type": "code",
   "execution_count": 59,
   "metadata": {
    "colab": {
     "base_uri": "https://localhost:8080/"
    },
    "id": "xtYOknyWrG2P",
    "outputId": "29c942a8-ec94-4f75-9ece-ad2c08453ea7",
    "tags": []
   },
   "outputs": [],
   "source": [
    "UsedCarsSA_copy = UsedCarsSA.copy()"
   ]
  },
  {
   "cell_type": "code",
   "execution_count": 60,
   "metadata": {
    "id": "2yMc1845IuPP",
    "tags": []
   },
   "outputs": [],
   "source": [
    "UsedCarsSA_copy['Make'].replace(['Chrysler', 'Nissan', 'Hyundai', 'Honda', 'Toyota', 'GMC',\n",
    "       'Chevrolet', 'Mercedes', 'MINI', 'Lexus', 'Land Rover', 'Mazda',\n",
    "       'Ford', 'Kia', 'Genesis', 'Cadillac', 'Geely', 'MG', 'Jeep',\n",
    "       'INFINITI', 'Dodge', 'Ferrari', 'Great Wall', 'Jaguar', 'GAC',\n",
    "       'Renault', 'Suzuki', 'Peugeot', 'Changan', 'HAVAL', 'BMW',\n",
    "       'Rolls-Royce', 'Porsche', 'Mitsubishi', 'Isuzu', 'Subaru',\n",
    "       'Zhengzhou', 'Audi', 'Lincoln', 'Volkswagen', 'Daihatsu', 'Fiat',\n",
    "       'Bentley', 'FAW', 'Chery', 'Aston Martin', 'Pontiac', 'Mercury',\n",
    "       'BYD', 'Classic', 'SsangYong', 'Hummer', 'Other', 'Maserati',\n",
    "       'Lifan', 'Foton', 'Tata', 'Victory Auto', 'Škoda', 'JAC', 'Iveco',\n",
    "       'Volvo', 'Ashok', 'MAN', 'Buick'],set(range(0, 65)),inplace=True)\n",
    "UsedCarsSA_copy['Type'].replace(['C300', 'Patrol', 'Sunny', 'Elantra', 'Accord', 'Land Cruiser',\n",
    "       'Yukon', 'Impala', 'Yaris', 'Camry', 'Tahoe', 'CLA', 'E', 'Accent',\n",
    "       'Corolla', 'Copper', 'Prado', 'Civic', 'Furniture', 'RX',\n",
    "       'Range Rover', 'Avalon', 'Bus Urvan', 'Aurion', 'Malibu', 'Rav4',\n",
    "       'CX9', 'Expedition', 'ES', 'Cadenza', 'Tucson', 'Platinum', 'G80',\n",
    "       'Sonata', 'LX', 'Senta fe', 'GX', 'Azera', 'CT-S', 'EC7', 'ZS',\n",
    "       'Kona', 'Grand Cherokee', 'Optima', 'S', 'M', 'Charger', 'Taurus',\n",
    "       'GTB 599 Fiorano', 'Suburban', 'Royal', 'Picanto', 'Power',\n",
    "       'Datsun', 'F-Pace', 'Hilux', 'FJ', 'Explorer', 'Land Cruiser 70',\n",
    "       'GS8', 'Maxima', 'Caprice', 'Challenger', 'Camaro', 'Symbol',\n",
    "       'Fluence', '6', 'RX5', 'APV', '3008', 'SRX', 'Cerato', 'Traverse',\n",
    "       'Marquis', 'Innova', 'Sierra', 'F150', 'Genesis', 'NX', 'C', 'G70',\n",
    "       'Flex', 'UX', 'Dyna', 'Cores', 'Creta', 'Rio', 'Odyssey', 'EC8',\n",
    "       'Sylvian Bus', 'CT6', 'H1', 'Ciocca', 'Land Cruiser Pickup',\n",
    "       'Cressida', 'Sportage', 'Duster', 'Seven', 'GLC', 'Carnival', 'H6',\n",
    "       '300', 'The 7', 'Spark', 'Z370', 'Victoria', 'Ghost', '911',\n",
    "       'Attrage', 'Focus', 'X-Trail', 'Forester', 'CX5', 'Pick up', 'ML',\n",
    "       'The 4', 'GS', 'Pajero', 'Acadia', 'City', 'Echo Sport', 'Vego',\n",
    "       'The 5', 'Silverado', 'A5', 'Cherokee', 'Altima', 'X', 'Navigator',\n",
    "       'Wrangler', 'G', 'XT5', 'Cruze', 'Navara', 'Touareg', 'Gran Max',\n",
    "       'Escalade', 'Cayenne S', 'Aveo', 'Soul', 'Durango', 'Montero',\n",
    "       'Prestige', 'Sentra', 'Dokker', 'Veloster', 'Fusion', 'Capture',\n",
    "       'Pathfinder', 'Seltos', 'Behbehani', 'LS', 'Emgrand', 'Carenz',\n",
    "       'SEL', 'The 6', 'SL', 'H2', 'Fiorino', 'Nativa', 'Talisman',\n",
    "       'Corvette', 'CL', 'Blazer', 'Mustang', '5008', 'CX3', 'Bentayga',\n",
    "       'A', 'T77', 'Optra', 'Trailblazer', 'Safrane', 'QX', 'Pilot',\n",
    "       'Tiggo', 'Ranger', 'H9', 'Eado', 'GLE', 'MKS', 'CT5', 'VTC',\n",
    "       'Panamera', 'CS35', 'Toyota 86', 'Coolray', 'Countryman', 'D-MAX',\n",
    "       'Azkarra', 'Partner', '301', 'A6', 'Previa', 'X-Terra', 'Other',\n",
    "       'Hiace', 'Maybach', 'V7', 'CS75', 'Flying Spur', 'Outlander', 'GT',\n",
    "       'Sorento', 'Vanquish', 'Safari', 'K5', 'Vantage', 'HRV', '3', 'Q5',\n",
    "       'CT4', 'MKX', 'S5', 'X7', 'CS95', 'Rush', '2', 'Delta', 'IS',\n",
    "       'Cayenne', 'CS35 Plus', 'SE', 'KICKS', 'Q', 'CS85', 'Armada',\n",
    "       'Opirus', 'Echo', 'Avanza', 'GLB', 'Terios Ground', 'Abeka',\n",
    "       'Bonneville', '5', 'S300', 'Corolla Cross', 'Koleos', '308',\n",
    "       'MR-V', 'Town Car', 'Compass', 'Edge', 'Grand Marquis', 'A8',\n",
    "       'Grand Vitara', 'Mohave', 'X Type', 'Lumina', 'Tiida', '500',\n",
    "       'Macan', 'Savana', 'Passat', 'CLS', 'Stinger', 'Viano', 'A3', 'S8',\n",
    "       'RX8', 'XJR', 'RC', 'MKZ', 'CC', 'Coaster', 'C-HR', 'S7', 'Wingle',\n",
    "       'Terrain', 'Colorado', 'Ram', 'Vitara', 'Juke', 'C200', 'FX',\n",
    "       'Terios', 'Fleetwood', 'Milan', 'Cayman', 'Boxer', 'ATS',\n",
    "       'Cadillac', 'Rexton', 'H3', 'Tundra', 'Envoy', 'T60', 'Prius',\n",
    "       'Montero2', 'Jaguar', 'Osa Bus', 'F3', 'XF', 'Gamble', 'The 3',\n",
    "       'Koranado', 'L200', 'Crown', 'Lancer', '360', 'Jimny', 'Q7', 'XJ',\n",
    "       'LF X60', 'Town and Country', 'Van', 'Patriot', 'GL', 'The M',\n",
    "       'Arnage', 'ASX', 'F Type', 'Golf', 'E350', 'Coupe S', 'Freestar',\n",
    "       'Camargue', 'Doblo', '4Runner', 'M300', 'ALB', 'Actros', 'DTS',\n",
    "       'Avalanche', 'Bus County', 'Prestige Plus', 'BT-50', 'H-2', 'Z',\n",
    "       'Avante', 'Discovery', 'A4', 'B50', 'K4000G', 'Sprinter',\n",
    "       'Quattroporte', 'Bronco', 'Dakota', 'Beetle', 'Coupe', 'Mini Van',\n",
    "       'Continental GT', 'Ertiga', 'GS3', 'Defender', 'A7', 'Gloria',\n",
    "       'SLK', 'Tuscani', 'POS24', 'Kaptiva', 'Murano', 'DB9', 'Levante',\n",
    "       'Jetta', 'H100', 'GLA', 'Transit', 'Sienna LE', 'CRV',\n",
    "       'Thunderbird', '350', 'Nexon', 'i40', 'Cayenne Turbo S', 'Tiguan',\n",
    "       'GC7', 'STS', 'Super Carry', 'Logan', 'i10', 'L300', 'Dzire',\n",
    "       'LR2', 'Centennial', 'Axor', 'Cayenne Turbo', 'Mini Cooper',\n",
    "       'Z350', 'Nitro', 'Van R', '323', 'Crosstour', 'SX4', 'Suvana',\n",
    "       'Liberty', 'X40', 'Montero1', 'Bus', 'Megane', 'Fabia', 'Atego',\n",
    "       'J5', 'Van Express', 'Daily', 'Carens', 'New Yorker', 'FH', 'G330',\n",
    "       'Caprice Classic', 'Commander', 'The 1', 'Sedona',\n",
    "       'Cayenne Turbo GTS', 'Grand Voyager', 'SRT', 'Bora', 'HS', \"D'max\",\n",
    "       'Silvia', 'Eldorado', 'Pegas', 'Palisade', 'Celerio', 'Leyland',\n",
    "       'Big Truck', 'XC90', 'C5700', 'Superb', 'GS4', 'The LS', 'Linea',\n",
    "       'Fuso Canter', 'Veracruz', '307', 'S6', 'Space Star', 'Riviera',\n",
    "       'ِACTIS V80', 'CX7', 'R', 'QQ', 'Galant', 'Trafic', 'Carry'],set(range(0, 435)),inplace=True)\n",
    "UsedCarsSA_copy['Origin'].replace(['Saudi', 'Gulf Arabic', 'Other'],set(range(0, 3)),inplace=True)\n",
    "UsedCarsSA_copy['Color'].replace(['Black', 'White', 'Silver', 'Grey', 'Navy', 'Bronze', 'Red',\n",
    "       'Another Color', 'Golden', 'Brown', 'Blue', 'Oily', 'Green',\n",
    "       'Yellow', 'Orange'],set(range(0, 15)),inplace=True)\n",
    "UsedCarsSA_copy['Options'].replace(['Full', 'Standard', 'Semi Full'],set(range(0, 3)),inplace=True)\n",
    "UsedCarsSA_copy['Fuel_Type'].replace(['Gas', 'Diesel', 'Hybrid'],set(range(0, 3)),inplace=True)\n",
    "UsedCarsSA_copy['Gear_Type'].replace(['Automatic', 'Manual'],set(range(0, 2)),inplace=True)\n",
    "UsedCarsSA_copy['Condition'].replace(['Used'],set(range(0, 1)),inplace=True)\n",
    "UsedCarsSA_copy['Region'].replace(['Riyadh', 'Jeddah', 'Dammam', 'Al-Medina', 'Qassim', 'Makkah',\n",
    "       'Jazan', 'Aseer', 'Hail', 'Taef', 'Al-Ahsa', 'Abha', 'Sabya',\n",
    "       'Besha', 'Khobar', 'Tabouk', 'Al-Baha', 'Hafar Al-Batin', 'Yanbu',\n",
    "       'Jubail', 'Al-Jouf', 'Arar', 'Najran', 'Al-Namas', 'Qurayyat',\n",
    "       'Wadi Dawasir', 'Sakaka'],set(range(0, 27)),inplace=True)"
   ]
  },
  {
   "cell_type": "code",
   "execution_count": 63,
   "metadata": {
    "tags": []
   },
   "outputs": [
    {
     "data": {
      "text/plain": [
       "Make                  0\n",
       "Type                  0\n",
       "Year                  0\n",
       "Origin                0\n",
       "Color                 0\n",
       "Options               0\n",
       "Engine_Size           0\n",
       "Fuel_Type             0\n",
       "Gear_Type             0\n",
       "Condition             0\n",
       "Mileage               0\n",
       "Region                0\n",
       "Price                 0\n",
       "Negotiable            0\n",
       "Engine_Size_isnull    0\n",
       "Options_isnull        0\n",
       "dtype: int64"
      ]
     },
     "execution_count": 63,
     "metadata": {},
     "output_type": "execute_result"
    }
   ],
   "source": [
    "UsedCarsSA_no_Engine_Size = UsedCarsSA_copy.dropna(subset = ['Engine_Size']).copy()\n",
    "UsedCarsSA_no_Engine_Size.isnull().sum()"
   ]
  },
  {
   "cell_type": "code",
   "execution_count": 65,
   "metadata": {
    "colab": {
     "base_uri": "https://localhost:8080/"
    },
    "id": "3po7FdIwrymQ",
    "outputId": "e07849a9-a560-4efd-eea3-d4be9049a94d",
    "tags": []
   },
   "outputs": [
    {
     "name": "stdout",
     "output_type": "stream",
     "text": [
      "<class 'pandas.core.frame.DataFrame'>\n",
      "Index: 2266 entries, 13 to 8245\n",
      "Data columns (total 16 columns):\n",
      " #   Column              Non-Null Count  Dtype  \n",
      "---  ------              --------------  -----  \n",
      " 0   Make                2266 non-null   int64  \n",
      " 1   Type                2266 non-null   int64  \n",
      " 2   Year                2266 non-null   int64  \n",
      " 3   Origin              2266 non-null   int64  \n",
      " 4   Color               2266 non-null   int64  \n",
      " 5   Options             2266 non-null   int64  \n",
      " 6   Engine_Size         0 non-null      float64\n",
      " 7   Fuel_Type           2266 non-null   int64  \n",
      " 8   Gear_Type           2266 non-null   int64  \n",
      " 9   Condition           2266 non-null   int64  \n",
      " 10  Mileage             2266 non-null   int64  \n",
      " 11  Region              2266 non-null   int64  \n",
      " 12  Price               2266 non-null   float64\n",
      " 13  Negotiable          2266 non-null   bool   \n",
      " 14  Engine_Size_isnull  2266 non-null   int64  \n",
      " 15  Options_isnull      2266 non-null   int32  \n",
      "dtypes: bool(1), float64(2), int32(1), int64(12)\n",
      "memory usage: 276.6 KB\n"
     ]
    }
   ],
   "source": [
    "predict_Engine_Size = UsedCarsSA_copy[UsedCarsSA_copy['Engine_Size'].isna()].copy()\n",
    "predict_Engine_Size.info()"
   ]
  },
  {
   "cell_type": "code",
   "execution_count": 66,
   "metadata": {
    "colab": {
     "base_uri": "https://localhost:8080/"
    },
    "id": "Nwc-cFVbAEd3",
    "outputId": "5a29f026-e7db-4c8d-8e8f-d7f1216a6827",
    "tags": []
   },
   "outputs": [
    {
     "name": "stdout",
     "output_type": "stream",
     "text": [
      "Validation Mean Squared Error: 1.7797144763338577\n",
      "Validation R-squared: 0.22039990256128472\n"
     ]
    }
   ],
   "source": [
    "from sklearn.model_selection import train_test_split\n",
    "from sklearn.linear_model import LinearRegression\n",
    "from sklearn.metrics import mean_squared_error\n",
    "from sklearn.metrics import r2_score\n",
    "\n",
    "X_train, X_val, y_train, y_val = train_test_split(UsedCarsSA_no_Engine_Size.drop('Engine_Size', axis=1), UsedCarsSA_no_Engine_Size['Engine_Size'], test_size=0.08, random_state=42)\n",
    "\n",
    "model = LinearRegression()\n",
    "model.fit(X_train, y_train)\n",
    "\n",
    "y_val_pred = model.predict(X_val)\n",
    "\n",
    "mse_val = mean_squared_error(y_val, y_val_pred)\n",
    "print(f\"Validation Mean Squared Error: {mse_val}\")\n",
    "r2_val = r2_score(y_val, y_val_pred)\n",
    "print(f\"Validation R-squared: {r2_val}\")\n",
    "\n",
    "x_test = predict_Engine_Size.drop('Engine_Size', axis=1)\n",
    "y_test_pred = model.predict(x_test)"
   ]
  },
  {
   "cell_type": "code",
   "execution_count": 67,
   "metadata": {
    "colab": {
     "base_uri": "https://localhost:8080/"
    },
    "id": "fXiaa-JtslFV",
    "outputId": "d40adb34-a8f2-4db1-a497-8768f620a6da",
    "tags": []
   },
   "outputs": [
    {
     "data": {
      "text/plain": [
       "array([3.98033219, 3.65357133, 4.38075936, ..., 3.12563714, 3.46450182,\n",
       "       4.3161146 ])"
      ]
     },
     "execution_count": 67,
     "metadata": {},
     "output_type": "execute_result"
    }
   ],
   "source": [
    "y_test_pred"
   ]
  },
  {
   "cell_type": "code",
   "execution_count": 68,
   "metadata": {
    "colab": {
     "base_uri": "https://localhost:8080/"
    },
    "id": "0r5hINABlZX2",
    "outputId": "3d557525-3a1a-410d-a1a8-91e914f6c6cb",
    "tags": []
   },
   "outputs": [],
   "source": [
    "predict_Engine_Size['Engine_Size'] = y_test_pred.round(1)"
   ]
  },
  {
   "cell_type": "code",
   "execution_count": 69,
   "metadata": {
    "colab": {
     "base_uri": "https://localhost:8080/"
    },
    "id": "GIfwFvZ6oL77",
    "outputId": "c4a2281f-e596-462d-eb40-b2095ccfcb19",
    "tags": []
   },
   "outputs": [
    {
     "data": {
      "text/plain": [
       "0"
      ]
     },
     "execution_count": 69,
     "metadata": {},
     "output_type": "execute_result"
    }
   ],
   "source": [
    "predict_Engine_Size['Engine_Size'].isnull().sum()"
   ]
  },
  {
   "cell_type": "code",
   "execution_count": 70,
   "metadata": {
    "colab": {
     "base_uri": "https://localhost:8080/"
    },
    "id": "LXvwT-jLoUCQ",
    "outputId": "00a40eea-eaf7-45d6-e30b-8c9114f8b9ff",
    "tags": []
   },
   "outputs": [
    {
     "data": {
      "text/plain": [
       "13      4.0\n",
       "29      3.7\n",
       "42      4.4\n",
       "60      2.6\n",
       "72      2.3\n",
       "       ... \n",
       "8230    3.3\n",
       "8236    2.5\n",
       "8243    3.1\n",
       "8244    3.5\n",
       "8245    4.3\n",
       "Name: Engine_Size, Length: 2266, dtype: float64"
      ]
     },
     "execution_count": 70,
     "metadata": {},
     "output_type": "execute_result"
    }
   ],
   "source": [
    "predict_Engine_Size['Engine_Size']"
   ]
  },
  {
   "cell_type": "code",
   "execution_count": 71,
   "metadata": {
    "colab": {
     "base_uri": "https://localhost:8080/",
     "height": 443
    },
    "id": "6pDaNNqjpChR",
    "outputId": "9b437b21-f0f6-4750-f286-9e986f176ddc",
    "tags": []
   },
   "outputs": [
    {
     "data": {
      "text/html": [
       "<div>\n",
       "<style scoped>\n",
       "    .dataframe tbody tr th:only-of-type {\n",
       "        vertical-align: middle;\n",
       "    }\n",
       "\n",
       "    .dataframe tbody tr th {\n",
       "        vertical-align: top;\n",
       "    }\n",
       "\n",
       "    .dataframe thead th {\n",
       "        text-align: right;\n",
       "    }\n",
       "</style>\n",
       "<table border=\"1\" class=\"dataframe\">\n",
       "  <thead>\n",
       "    <tr style=\"text-align: right;\">\n",
       "      <th></th>\n",
       "      <th>Make</th>\n",
       "      <th>Type</th>\n",
       "      <th>Year</th>\n",
       "      <th>Origin</th>\n",
       "      <th>Color</th>\n",
       "      <th>Options</th>\n",
       "      <th>Engine_Size</th>\n",
       "      <th>Fuel_Type</th>\n",
       "      <th>Gear_Type</th>\n",
       "      <th>Condition</th>\n",
       "      <th>Mileage</th>\n",
       "      <th>Region</th>\n",
       "      <th>Price</th>\n",
       "      <th>Negotiable</th>\n",
       "      <th>Engine_Size_isnull</th>\n",
       "      <th>Options_isnull</th>\n",
       "    </tr>\n",
       "  </thead>\n",
       "  <tbody>\n",
       "    <tr>\n",
       "      <th>13</th>\n",
       "      <td>7</td>\n",
       "      <td>11</td>\n",
       "      <td>2020</td>\n",
       "      <td>2</td>\n",
       "      <td>1</td>\n",
       "      <td>1</td>\n",
       "      <td>4.0</td>\n",
       "      <td>0</td>\n",
       "      <td>0</td>\n",
       "      <td>0</td>\n",
       "      <td>20000</td>\n",
       "      <td>0</td>\n",
       "      <td>235000.000000</td>\n",
       "      <td>False</td>\n",
       "      <td>1</td>\n",
       "      <td>0</td>\n",
       "    </tr>\n",
       "    <tr>\n",
       "      <th>29</th>\n",
       "      <td>4</td>\n",
       "      <td>21</td>\n",
       "      <td>2008</td>\n",
       "      <td>2</td>\n",
       "      <td>6</td>\n",
       "      <td>0</td>\n",
       "      <td>3.7</td>\n",
       "      <td>0</td>\n",
       "      <td>0</td>\n",
       "      <td>0</td>\n",
       "      <td>169000</td>\n",
       "      <td>0</td>\n",
       "      <td>30000.000000</td>\n",
       "      <td>True</td>\n",
       "      <td>1</td>\n",
       "      <td>0</td>\n",
       "    </tr>\n",
       "    <tr>\n",
       "      <th>42</th>\n",
       "      <td>4</td>\n",
       "      <td>5</td>\n",
       "      <td>1993</td>\n",
       "      <td>0</td>\n",
       "      <td>5</td>\n",
       "      <td>2</td>\n",
       "      <td>4.4</td>\n",
       "      <td>0</td>\n",
       "      <td>1</td>\n",
       "      <td>0</td>\n",
       "      <td>400</td>\n",
       "      <td>15</td>\n",
       "      <td>12000.000000</td>\n",
       "      <td>False</td>\n",
       "      <td>1</td>\n",
       "      <td>0</td>\n",
       "    </tr>\n",
       "    <tr>\n",
       "      <th>60</th>\n",
       "      <td>2</td>\n",
       "      <td>35</td>\n",
       "      <td>2021</td>\n",
       "      <td>0</td>\n",
       "      <td>4</td>\n",
       "      <td>2</td>\n",
       "      <td>2.6</td>\n",
       "      <td>0</td>\n",
       "      <td>0</td>\n",
       "      <td>0</td>\n",
       "      <td>2200</td>\n",
       "      <td>0</td>\n",
       "      <td>77943.537102</td>\n",
       "      <td>True</td>\n",
       "      <td>1</td>\n",
       "      <td>0</td>\n",
       "    </tr>\n",
       "    <tr>\n",
       "      <th>72</th>\n",
       "      <td>16</td>\n",
       "      <td>39</td>\n",
       "      <td>2014</td>\n",
       "      <td>0</td>\n",
       "      <td>8</td>\n",
       "      <td>0</td>\n",
       "      <td>2.3</td>\n",
       "      <td>0</td>\n",
       "      <td>1</td>\n",
       "      <td>0</td>\n",
       "      <td>161300</td>\n",
       "      <td>0</td>\n",
       "      <td>12000.000000</td>\n",
       "      <td>False</td>\n",
       "      <td>1</td>\n",
       "      <td>0</td>\n",
       "    </tr>\n",
       "    <tr>\n",
       "      <th>...</th>\n",
       "      <td>...</td>\n",
       "      <td>...</td>\n",
       "      <td>...</td>\n",
       "      <td>...</td>\n",
       "      <td>...</td>\n",
       "      <td>...</td>\n",
       "      <td>...</td>\n",
       "      <td>...</td>\n",
       "      <td>...</td>\n",
       "      <td>...</td>\n",
       "      <td>...</td>\n",
       "      <td>...</td>\n",
       "      <td>...</td>\n",
       "      <td>...</td>\n",
       "      <td>...</td>\n",
       "      <td>...</td>\n",
       "    </tr>\n",
       "    <tr>\n",
       "      <th>8230</th>\n",
       "      <td>12</td>\n",
       "      <td>57</td>\n",
       "      <td>2009</td>\n",
       "      <td>0</td>\n",
       "      <td>1</td>\n",
       "      <td>2</td>\n",
       "      <td>3.3</td>\n",
       "      <td>0</td>\n",
       "      <td>0</td>\n",
       "      <td>0</td>\n",
       "      <td>270000</td>\n",
       "      <td>0</td>\n",
       "      <td>20000.000000</td>\n",
       "      <td>True</td>\n",
       "      <td>1</td>\n",
       "      <td>0</td>\n",
       "    </tr>\n",
       "    <tr>\n",
       "      <th>8236</th>\n",
       "      <td>5</td>\n",
       "      <td>6</td>\n",
       "      <td>2019</td>\n",
       "      <td>0</td>\n",
       "      <td>3</td>\n",
       "      <td>0</td>\n",
       "      <td>2.5</td>\n",
       "      <td>0</td>\n",
       "      <td>0</td>\n",
       "      <td>0</td>\n",
       "      <td>50000</td>\n",
       "      <td>19</td>\n",
       "      <td>1.000000</td>\n",
       "      <td>False</td>\n",
       "      <td>1</td>\n",
       "      <td>0</td>\n",
       "    </tr>\n",
       "    <tr>\n",
       "      <th>8243</th>\n",
       "      <td>37</td>\n",
       "      <td>192</td>\n",
       "      <td>2015</td>\n",
       "      <td>0</td>\n",
       "      <td>2</td>\n",
       "      <td>0</td>\n",
       "      <td>3.1</td>\n",
       "      <td>0</td>\n",
       "      <td>0</td>\n",
       "      <td>0</td>\n",
       "      <td>77000</td>\n",
       "      <td>0</td>\n",
       "      <td>75000.000000</td>\n",
       "      <td>False</td>\n",
       "      <td>1</td>\n",
       "      <td>0</td>\n",
       "    </tr>\n",
       "    <tr>\n",
       "      <th>8244</th>\n",
       "      <td>6</td>\n",
       "      <td>63</td>\n",
       "      <td>2010</td>\n",
       "      <td>0</td>\n",
       "      <td>2</td>\n",
       "      <td>0</td>\n",
       "      <td>3.5</td>\n",
       "      <td>0</td>\n",
       "      <td>0</td>\n",
       "      <td>0</td>\n",
       "      <td>150000</td>\n",
       "      <td>0</td>\n",
       "      <td>53000.000000</td>\n",
       "      <td>False</td>\n",
       "      <td>1</td>\n",
       "      <td>0</td>\n",
       "    </tr>\n",
       "    <tr>\n",
       "      <th>8245</th>\n",
       "      <td>4</td>\n",
       "      <td>5</td>\n",
       "      <td>2013</td>\n",
       "      <td>1</td>\n",
       "      <td>1</td>\n",
       "      <td>0</td>\n",
       "      <td>4.3</td>\n",
       "      <td>0</td>\n",
       "      <td>0</td>\n",
       "      <td>0</td>\n",
       "      <td>260</td>\n",
       "      <td>22</td>\n",
       "      <td>123653.846154</td>\n",
       "      <td>True</td>\n",
       "      <td>1</td>\n",
       "      <td>0</td>\n",
       "    </tr>\n",
       "  </tbody>\n",
       "</table>\n",
       "<p>2266 rows × 16 columns</p>\n",
       "</div>"
      ],
      "text/plain": [
       "      Make  Type  Year  Origin  Color  Options  Engine_Size  Fuel_Type  \\\n",
       "13       7    11  2020       2      1        1          4.0          0   \n",
       "29       4    21  2008       2      6        0          3.7          0   \n",
       "42       4     5  1993       0      5        2          4.4          0   \n",
       "60       2    35  2021       0      4        2          2.6          0   \n",
       "72      16    39  2014       0      8        0          2.3          0   \n",
       "...    ...   ...   ...     ...    ...      ...          ...        ...   \n",
       "8230    12    57  2009       0      1        2          3.3          0   \n",
       "8236     5     6  2019       0      3        0          2.5          0   \n",
       "8243    37   192  2015       0      2        0          3.1          0   \n",
       "8244     6    63  2010       0      2        0          3.5          0   \n",
       "8245     4     5  2013       1      1        0          4.3          0   \n",
       "\n",
       "      Gear_Type  Condition  Mileage  Region          Price  Negotiable  \\\n",
       "13            0          0    20000       0  235000.000000       False   \n",
       "29            0          0   169000       0   30000.000000        True   \n",
       "42            1          0      400      15   12000.000000       False   \n",
       "60            0          0     2200       0   77943.537102        True   \n",
       "72            1          0   161300       0   12000.000000       False   \n",
       "...         ...        ...      ...     ...            ...         ...   \n",
       "8230          0          0   270000       0   20000.000000        True   \n",
       "8236          0          0    50000      19       1.000000       False   \n",
       "8243          0          0    77000       0   75000.000000       False   \n",
       "8244          0          0   150000       0   53000.000000       False   \n",
       "8245          0          0      260      22  123653.846154        True   \n",
       "\n",
       "      Engine_Size_isnull  Options_isnull  \n",
       "13                     1               0  \n",
       "29                     1               0  \n",
       "42                     1               0  \n",
       "60                     1               0  \n",
       "72                     1               0  \n",
       "...                  ...             ...  \n",
       "8230                   1               0  \n",
       "8236                   1               0  \n",
       "8243                   1               0  \n",
       "8244                   1               0  \n",
       "8245                   1               0  \n",
       "\n",
       "[2266 rows x 16 columns]"
      ]
     },
     "execution_count": 71,
     "metadata": {},
     "output_type": "execute_result"
    }
   ],
   "source": [
    "predict_Engine_Size"
   ]
  },
  {
   "cell_type": "code",
   "execution_count": 73,
   "metadata": {
    "id": "eiI6Aec8s0Wb",
    "tags": []
   },
   "outputs": [
    {
     "ename": "NameError",
     "evalue": "name 'missing_mask' is not defined",
     "output_type": "error",
     "traceback": [
      "\u001b[1;31m---------------------------------------------------------------------------\u001b[0m",
      "\u001b[1;31mNameError\u001b[0m                                 Traceback (most recent call last)",
      "Cell \u001b[1;32mIn[73], line 20\u001b[0m\n\u001b[0;32m     17\u001b[0m \u001b[38;5;66;03m# Evaluate the imputation by comparing to the original data\u001b[39;00m\n\u001b[0;32m     18\u001b[0m \u001b[38;5;66;03m# Extract the actual values from the validation set where values were missing\u001b[39;00m\n\u001b[0;32m     19\u001b[0m X_val_actual \u001b[38;5;241m=\u001b[39m X_val\u001b[38;5;241m.\u001b[39mcopy()\n\u001b[1;32m---> 20\u001b[0m X_val_actual\u001b[38;5;241m.\u001b[39mloc[\u001b[38;5;241m~\u001b[39mmissing_mask[\u001b[38;5;241m-\u001b[39m\u001b[38;5;28mlen\u001b[39m(X_val):]] \u001b[38;5;241m=\u001b[39m np\u001b[38;5;241m.\u001b[39mnan\n\u001b[0;32m     22\u001b[0m \u001b[38;5;66;03m# Mean Squared Error and R-squared for imputed vs actual values\u001b[39;00m\n\u001b[0;32m     23\u001b[0m mse_val \u001b[38;5;241m=\u001b[39m mean_squared_error(X_val_actual, X_val_imputed_df, multioutput\u001b[38;5;241m=\u001b[39m\u001b[38;5;124m'\u001b[39m\u001b[38;5;124mraw_values\u001b[39m\u001b[38;5;124m'\u001b[39m)\n",
      "\u001b[1;31mNameError\u001b[0m: name 'missing_mask' is not defined"
     ]
    }
   ],
   "source": [
    "from sklearn.model_selection import train_test_split\n",
    "from sklearn.metrics import mean_squared_error\n",
    "from sklearn.metrics import r2_score\n",
    "from sklearn.impute import KNNImputer\n",
    "\n",
    "\n",
    "X_train, X_val, y_train, y_val = train_test_split(UsedCarsSA_no_Engine_Size.drop('Engine_Size', axis=1), UsedCarsSA_no_Engine_Size['Engine_Size'], test_size=0.08, random_state=42)\n",
    "\n",
    "imputer = KNNImputer(n_neighbors=2)\n",
    "X_train_imputed = imputer.fit_transform(X_train)\n",
    "X_val_imputed = imputer.transform(X_val)\n",
    "\n",
    "# Convert the numpy arrays back to DataFrames\n",
    "X_train_imputed_df = pd.DataFrame(X_train_imputed, columns=X_train.columns)\n",
    "X_val_imputed_df = pd.DataFrame(X_val_imputed, columns=X_val.columns)\n",
    "\n",
    "# Evaluate the imputation by comparing to the original data\n",
    "# Extract the actual values from the validation set where values were missing\n",
    "X_val_actual = X_val.copy()\n",
    "X_val_actual.loc[~missing_mask[-len(X_val):]] = np.nan\n",
    "\n",
    "# Mean Squared Error and R-squared for imputed vs actual values\n",
    "mse_val = mean_squared_error(X_val_actual, X_val_imputed_df, multioutput='raw_values')\n",
    "r2_val = r2_score(X_val_actual, X_val_imputed_df, multioutput='raw_values')\n",
    "\n",
    "print(f\"Validation Mean Squared Error per column: {mse_val}\")\n",
    "print(f\"Validation R-squared per column: {r2_val}\")\n",
    "\n",
    "# Summary of imputed values and comparison to actual values\n",
    "print(\"Validation set (with actual values where originally missing):\\n\", X_val_actual)\n",
    "print(\"Imputed validation set:\\n\", X_val_imputed_df)"
   ]
  },
  {
   "cell_type": "code",
   "execution_count": null,
   "metadata": {},
   "outputs": [],
   "source": []
  }
 ],
 "metadata": {
  "colab": {
   "provenance": []
  },
  "kernelspec": {
   "display_name": "Python 3 (ipykernel)",
   "language": "python",
   "name": "python3"
  },
  "language_info": {
   "codemirror_mode": {
    "name": "ipython",
    "version": 3
   },
   "file_extension": ".py",
   "mimetype": "text/x-python",
   "name": "python",
   "nbconvert_exporter": "python",
   "pygments_lexer": "ipython3",
   "version": "3.11.4"
  }
 },
 "nbformat": 4,
 "nbformat_minor": 4
}
