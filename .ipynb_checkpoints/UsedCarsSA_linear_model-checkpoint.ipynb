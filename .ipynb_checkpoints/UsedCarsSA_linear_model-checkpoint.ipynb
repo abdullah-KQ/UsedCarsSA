{
 "cells": [
  {
   "cell_type": "code",
   "execution_count": 6,
   "metadata": {
    "id": "DZK8WiXmAHzJ",
    "tags": []
   },
   "outputs": [],
   "source": [
    "import pandas as pd\n",
    "import numpy as np\n",
    "import matplotlib.pyplot as plt"
   ]
  },
  {
   "cell_type": "code",
   "execution_count": 7,
   "metadata": {
    "id": "Z2910BC1QGW-",
    "tags": []
   },
   "outputs": [],
   "source": [
    "df = pd.read_csv('UsedCarsSA_Unclean_EN.csv')"
   ]
  },
  {
   "cell_type": "code",
   "execution_count": 8,
   "metadata": {
    "colab": {
     "base_uri": "https://localhost:8080/"
    },
    "id": "Raeu9SXURL6h",
    "outputId": "014f87be-e2d0-4ddf-ee70-1189d39e5398"
   },
   "outputs": [
    {
     "name": "stdout",
     "output_type": "stream",
     "text": [
      "<class 'pandas.core.frame.DataFrame'>\n",
      "RangeIndex: 8248 entries, 0 to 8247\n",
      "Data columns (total 15 columns):\n",
      " #   Column       Non-Null Count  Dtype  \n",
      "---  ------       --------------  -----  \n",
      " 0   Link         8248 non-null   object \n",
      " 1   Make         8248 non-null   object \n",
      " 2   Type         8248 non-null   object \n",
      " 3   Year         8248 non-null   int64  \n",
      " 4   Origin       8153 non-null   object \n",
      " 5   Color        8248 non-null   object \n",
      " 6   Options      8139 non-null   object \n",
      " 7   Engine_Size  5982 non-null   float64\n",
      " 8   Fuel_Type    8248 non-null   object \n",
      " 9   Gear_Type    8174 non-null   object \n",
      " 10  Condition    8248 non-null   object \n",
      " 11  Mileage      8248 non-null   int64  \n",
      " 12  Region       8248 non-null   object \n",
      " 13  Price        8248 non-null   object \n",
      " 14  Negotiable   8248 non-null   bool   \n",
      "dtypes: bool(1), float64(1), int64(2), object(11)\n",
      "memory usage: 910.3+ KB\n"
     ]
    }
   ],
   "source": [
    "df.info()"
   ]
  },
  {
   "cell_type": "code",
   "execution_count": 9,
   "metadata": {
    "colab": {
     "base_uri": "https://localhost:8080/"
    },
    "id": "7zAJBMl3Rmv9",
    "outputId": "9d0b86d7-b8c5-42da-d99a-13761cc8d6f6"
   },
   "outputs": [
    {
     "data": {
      "text/plain": [
       "Link              0\n",
       "Make              0\n",
       "Type              0\n",
       "Year              0\n",
       "Origin           95\n",
       "Color             0\n",
       "Options         109\n",
       "Engine_Size    2266\n",
       "Fuel_Type         0\n",
       "Gear_Type        74\n",
       "Condition         0\n",
       "Mileage           0\n",
       "Region            0\n",
       "Price             0\n",
       "Negotiable        0\n",
       "dtype: int64"
      ]
     },
     "execution_count": 9,
     "metadata": {},
     "output_type": "execute_result"
    }
   ],
   "source": [
    "df.isnull().sum()"
   ]
  },
  {
   "cell_type": "code",
   "execution_count": 10,
   "metadata": {
    "id": "akEWoiNrrHGT"
   },
   "outputs": [],
   "source": [
    "df = df.assign(Engine_Size_isnull = df['Engine_Size'].isnull())\n",
    "df['Engine_Size_isnull'] = df['Engine_Size_isnull'].astype('int64')\n",
    "df.drop('Link', axis=1,inplace=True)\n",
    "\n",
    "df['Options_isnull'] = np.where(df['Options'].isnull(),1,0)"
   ]
  },
  {
   "cell_type": "code",
   "execution_count": 11,
   "metadata": {
    "colab": {
     "base_uri": "https://localhost:8080/"
    },
    "id": "ysFI_yKAfuZm",
    "outputId": "d75c1f58-0849-49a9-e993-d28bf9223d57"
   },
   "outputs": [
    {
     "data": {
      "text/plain": [
       "0"
      ]
     },
     "execution_count": 11,
     "metadata": {},
     "output_type": "execute_result"
    }
   ],
   "source": [
    "df['Price'].replace('Negotiable', np.nan ,inplace = True)\n",
    "df['Price'] = df['Price'].astype('float64')\n",
    "\n",
    "df['Price'] = df.groupby(['Type', 'Options', 'Year'])['Price'].transform(lambda x: x.fillna(x.mean()))\n",
    "\n",
    "df['Price'] = df['Price'].fillna(df['Price'].mean())\n",
    "df['Price'].isna().sum()"
   ]
  },
  {
   "cell_type": "code",
   "execution_count": 12,
   "metadata": {
    "colab": {
     "base_uri": "https://localhost:8080/"
    },
    "id": "Ilub-OIPYazX",
    "outputId": "e009a660-e73d-486b-e433-62ceee0250dc"
   },
   "outputs": [
    {
     "data": {
      "text/plain": [
       "array([1.14000000e+05, 1.43250000e+05, 2.75000000e+04, 4.30000000e+04,\n",
       "       5.95000000e+04, 7.20000000e+04, 9.20000000e+04, 4.95000000e+04,\n",
       "       8.00000000e+04, 3.20000000e+04, 5.00000000e+04, 1.35000000e+05,\n",
       "       1.53000000e+05, 2.35000000e+05, 2.10000000e+05, 3.70000000e+04,\n",
       "       4.50000000e+04, 8.30000000e+04, 2.45000000e+04, 7.79435371e+04,\n",
       "       1.74000000e+05, 3.80000000e+04, 1.45000000e+05, 1.78000000e+05,\n",
       "       2.30000000e+05, 9.43571429e+04, 1.30000000e+05, 3.00000000e+04,\n",
       "       6.80000000e+04, 3.60000000e+04, 2.68000000e+04, 1.11000000e+05,\n",
       "       9.90000000e+04, 4.80000000e+04, 7.50000000e+04, 1.20000000e+04,\n",
       "       5.50000000e+04, 7.00000000e+04, 1.20000000e+05, 1.08000000e+05,\n",
       "       5.80000000e+04, 4.20000000e+04, 6.20000000e+04, 1.10000000e+05,\n",
       "       9.30000000e+04, 1.65000000e+05, 1.26000000e+05, 4.70000000e+04,\n",
       "       5.90000000e+04, 6.00000000e+04, 8.70000000e+04, 2.07000000e+05,\n",
       "       8.50000000e+04, 1.40000000e+05, 4.29612500e+04, 1.50000000e+04,\n",
       "       1.00000000e+04, 3.45000000e+05, 7.70000000e+04, 1.96571429e+05,\n",
       "       5.40000000e+04, 2.70000000e+04, 2.80000000e+05, 1.60000000e+05,\n",
       "       4.10000000e+05, 1.85000000e+04, 9.50000000e+04, 1.05000000e+05,\n",
       "       1.16600000e+05, 1.07000000e+05, 1.54187500e+05, 1.78550000e+05,\n",
       "       4.18000000e+05, 4.08000000e+04, 2.15000000e+04, 2.25000000e+04,\n",
       "       4.40000000e+04, 6.90000000e+04, 4.00000000e+04, 7.90000000e+04,\n",
       "       7.30000000e+04, 4.10000000e+04, 9.80000000e+04, 5.70000000e+04,\n",
       "       2.40000000e+04, 6.40000000e+04, 1.15000000e+05, 2.90000000e+04,\n",
       "       1.06000000e+05, 1.25000000e+05, 8.90000000e+04, 7.80000000e+04,\n",
       "       5.20000000e+04, 8.80000000e+04, 1.22000000e+05, 2.70000000e+05,\n",
       "       2.60000000e+04, 2.55000000e+04, 6.50000000e+04, 3.30000000e+04,\n",
       "       4.90000000e+04, 1.09000000e+05, 6.30000000e+04, 2.95000000e+04,\n",
       "       4.35000000e+04, 2.59000000e+04, 6.45833333e+04, 3.75000000e+04,\n",
       "       5.45000000e+04, 8.20000000e+04, 9.00000000e+04, 2.65000000e+04,\n",
       "       5.60000000e+04, 1.50000000e+05, 1.76000000e+05, 2.59000000e+05,\n",
       "       4.85000000e+04, 1.29000000e+05, 2.50000000e+04, 6.00000000e+03,\n",
       "       9.70000000e+04, 2.23500000e+05, 2.20000000e+04, 1.31500000e+05,\n",
       "       1.27000000e+05, 3.55000000e+05, 1.99000000e+05, 9.40000000e+04,\n",
       "       1.30000000e+04, 3.40000000e+05, 2.65600000e+03, 1.55000000e+05,\n",
       "       1.15000000e+04, 1.12000000e+05, 6.70000000e+04, 1.75000000e+05,\n",
       "       1.95000000e+04, 2.85000000e+04, 3.50000000e+04, 3.10000000e+05,\n",
       "       8.60000000e+04, 2.16000000e+05, 3.49000000e+05, 2.00000000e+04,\n",
       "       1.85000000e+05, 2.10000000e+04, 2.33050000e+05, 2.75000000e+05,\n",
       "       1.56000000e+05, 1.58000000e+05, 4.25658000e+04, 2.50000000e+05,\n",
       "       1.80000000e+05, 1.02000000e+05, 2.40000000e+05, 4.55000000e+05,\n",
       "       2.30869565e+05, 2.39000000e+05, 2.60000000e+05, 1.70000000e+05,\n",
       "       2.55000000e+05, 1.18000000e+05, 2.25000000e+05, 5.40000000e+05,\n",
       "       1.41000000e+05, 4.50000000e+05, 3.65000000e+05, 7.60000000e+04,\n",
       "       1.42000000e+05, 1.51000000e+05, 1.68000000e+05, 2.45000000e+05,\n",
       "       6.85000000e+04, 1.63000000e+05, 1.19000000e+05, 1.43000000e+05,\n",
       "       1.88000000e+05, 4.70000000e+05, 2.38000000e+05, 1.49000000e+05,\n",
       "       1.13000000e+05, 1.59000000e+05, 1.38000000e+05, 2.52000000e+05,\n",
       "       1.10000000e+04, 3.70000000e+05, 1.03000000e+05, 1.80000000e+04,\n",
       "       3.25000000e+04, 1.91166667e+05, 5.10000000e+04, 4.74476190e+04,\n",
       "       7.38750000e+04, 3.05000000e+04, 3.15000000e+04, 5.30000000e+04,\n",
       "       1.00000000e+05, 2.08000000e+05, 3.40000000e+04, 1.28000000e+05,\n",
       "       3.35000000e+04, 2.36416667e+05, 1.07200000e+05, 1.77000000e+05,\n",
       "       3.90000000e+04, 2.89000000e+05, 3.45000000e+04, 3.55000000e+04,\n",
       "       1.60000000e+04, 3.65000000e+04, 1.36000000e+05, 1.40000000e+04,\n",
       "       4.60000000e+04, 7.40000000e+04, 2.03000000e+05, 1.66000000e+05,\n",
       "       1.75000000e+04, 4.14948750e+04, 1.07187500e+05, 8.69000000e+04,\n",
       "       5.03750000e+04, 3.85000000e+04, 3.95000000e+04, 1.16000000e+05,\n",
       "       2.26583333e+05, 1.58500000e+05, 1.17000000e+05, 3.75000000e+05,\n",
       "       4.05000000e+04, 1.70000000e+04, 1.02500000e+05, 2.39000000e+04,\n",
       "       2.30000000e+04, 1.22100000e+03, 7.00000000e+03, 1.55000000e+04,\n",
       "       4.15000000e+04, 1.34200000e+03, 1.31200000e+03, 1.62000000e+05,\n",
       "       1.57600000e+03, 1.32000000e+05, 6.60000000e+04, 4.75000000e+04,\n",
       "       1.35500000e+05, 1.04375000e+05, 4.82000000e+04, 2.64285714e+05,\n",
       "       8.32325000e+04, 3.41666667e+04, 8.01666667e+04, 7.50000000e+05,\n",
       "       1.90000000e+05, 1.05000000e+04, 2.65000000e+05, 2.62000000e+05,\n",
       "       2.66000000e+05, 2.57000000e+05, 1.73000000e+05, 1.82000000e+05,\n",
       "       1.79000000e+05, 5.00000000e+03, 8.98333333e+04, 1.48000000e+05,\n",
       "       2.58000000e+05, 1.55666667e+05, 1.27500000e+04, 4.25000000e+04,\n",
       "       2.93750000e+04, 2.80000000e+04, 7.13333333e+04, 2.72000000e+05,\n",
       "       3.29000000e+05, 1.69000000e+05, 6.96000000e+05, 4.45000000e+04,\n",
       "       8.00000000e+03, 4.74285714e+04, 5.86388889e+04, 5.55000000e+04,\n",
       "       2.88000000e+05, 4.55000000e+04, 1.15000000e+06, 1.16916667e+05,\n",
       "       5.86000000e+04, 4.65000000e+04, 5.66000000e+04, 7.65000000e+04,\n",
       "       9.60000000e+04, 1.60750000e+05, 3.95000000e+05, 2.74990000e+04,\n",
       "       2.03333333e+04, 3.62500000e+05, 3.20000000e+05, 3.26666667e+05,\n",
       "       1.24000000e+05, 8.40000000e+04, 6.10000000e+04, 1.31000000e+03,\n",
       "       1.64000000e+05, 1.18533333e+05, 5.45004286e+04, 6.42083333e+04,\n",
       "       7.22727273e+04, 1.29500000e+05, 2.07857143e+05, 5.05000000e+04,\n",
       "       2.29000000e+05, 1.39000000e+05, 1.17300000e+05, 5.15000000e+04,\n",
       "       4.95833333e+04, 7.25000000e+04, 3.48000000e+04, 2.30000000e+03,\n",
       "       1.90000000e+04, 4.63000000e+05, 4.00000000e+05, 6.62000000e+04,\n",
       "       2.67000000e+05, 5.25000000e+04, 4.56000000e+05, 1.95000000e+05,\n",
       "       1.67000000e+05, 7.27750000e+04, 5.35000000e+04, 1.63000000e+03,\n",
       "       2.17000000e+05, 1.34454545e+05, 2.00000000e+05, 2.20000000e+05,\n",
       "       1.42500000e+05, 6.65000000e+04, 7.35000000e+04, 1.22750000e+05,\n",
       "       8.10000000e+04, 1.46000000e+05, 5.65000000e+04, 9.10000000e+04,\n",
       "       5.75000000e+04, 2.39687500e+05, 2.36000000e+05, 1.35000000e+04,\n",
       "       3.08000000e+04, 4.13750000e+04, 2.23000000e+05, 1.13900000e+03,\n",
       "       5.85000000e+04, 4.96666667e+04, 5.46666667e+04, 2.33750000e+05,\n",
       "       1.95833333e+05, 2.06250000e+04, 8.25000000e+04, 6.11818182e+04,\n",
       "       6.05000000e+04, 5.40555556e+04, 1.81000000e+05, 4.18333333e+04,\n",
       "       6.15000000e+04, 3.42000000e+05, 1.22500000e+05, 1.67000000e+03,\n",
       "       1.22125000e+05, 1.47500000e+05, 3.53333333e+04, 2.19000000e+05,\n",
       "       1.86000000e+05, 9.88000000e+02, 9.00000000e+03, 6.25000000e+04,\n",
       "       1.45000000e+04, 3.00000000e+03, 6.35000000e+04, 3.81666667e+04,\n",
       "       4.33333333e+04, 2.85000000e+05, 1.61000000e+05, 2.33000000e+05,\n",
       "       1.91000000e+05, 6.45000000e+04, 4.68333333e+04, 4.20000000e+05,\n",
       "       2.48000000e+05, 2.98000000e+05, 5.88600000e+04, 9.12000000e+04,\n",
       "       7.75000000e+04, 6.55000000e+04, 6.82272727e+04, 2.49500000e+04,\n",
       "       2.14750000e+05, 7.11363636e+04, 6.65870000e+04, 2.90000000e+05,\n",
       "       3.15000000e+05, 4.43333333e+04, 6.75000000e+04, 4.00000000e+03,\n",
       "       2.13000000e+05, 6.20000000e+05, 6.95000000e+04, 5.40535714e+04,\n",
       "       8.12857143e+04, 6.86590909e+04, 5.50000000e+05, 7.05000000e+04,\n",
       "       7.15000000e+04, 1.21000000e+05, 1.23000000e+05, 2.26666667e+04,\n",
       "       1.92000000e+05, 7.45000000e+04, 1.22800000e+05, 8.47272727e+04,\n",
       "       2.48700000e+03, 2.97000000e+04, 6.21666667e+04, 9.14000000e+04,\n",
       "       2.62300000e+05, 1.08300000e+05, 3.10000000e+04, 9.83333333e+03,\n",
       "       1.14800000e+05, 7.10000000e+04, 1.01000000e+03, 1.87000000e+05,\n",
       "       4.30000000e+05, 3.30000000e+05, 4.03333333e+04, 5.25454545e+04,\n",
       "       7.85000000e+04, 8.77000000e+02, 1.83000000e+05, 4.65625000e+05,\n",
       "       7.27500000e+04, 6.33333333e+04, 1.37187500e+05, 7.95000000e+04,\n",
       "       8.05000000e+04, 8.15000000e+04, 8.35000000e+04, 8.45000000e+04,\n",
       "       3.80400000e+04, 4.36625000e+05, 8.55000000e+04, 8.85000000e+04,\n",
       "       8.95000000e+04, 9.15000000e+04, 9.35000000e+04, 5.12500000e+04,\n",
       "       2.97500000e+04, 6.25625000e+04, 1.35235294e+05, 1.25000000e+04,\n",
       "       1.00500000e+05, 9.95000000e+04, 1.04500000e+05, 1.00333333e+05,\n",
       "       1.84600000e+03, 1.30571429e+05, 1.06500000e+05, 6.58000000e+04,\n",
       "       1.72300000e+03, 1.31000000e+05, 3.06666667e+04, 1.11500000e+05,\n",
       "       6.76666667e+04, 1.32400000e+03, 1.13500000e+05, 2.40200000e+03,\n",
       "       1.20500000e+05, 4.21666667e+04, 3.86500000e+04, 3.50000000e+05,\n",
       "       1.14500000e+05, 1.16500000e+05, 2.95357143e+05, 8.26666667e+04,\n",
       "       7.87142857e+04, 6.07500000e+04, 4.53000000e+04, 1.11571429e+05,\n",
       "       1.23653846e+05, 1.75590667e+05, 7.21666667e+04, 6.21000000e+04,\n",
       "       1.20055556e+05, 1.54000000e+05, 8.50000000e+03, 1.19500000e+05,\n",
       "       1.21500000e+05, 1.33000000e+05, 1.23500000e+05, 1.06600000e+03,\n",
       "       1.24500000e+05, 1.26500000e+05, 6.81216667e+04, 5.23333333e+04,\n",
       "       1.28500000e+05, 9.47000000e+04, 5.49000000e+04, 7.40833333e+04,\n",
       "       6.98340000e+04, 1.36250000e+05, 7.58333333e+04, 1.39250000e+05,\n",
       "       3.29400000e+05, 5.48333333e+04, 1.32500000e+05, 5.61875000e+04,\n",
       "       1.36500000e+05, 1.38500000e+05, 6.50000000e+03, 6.99285714e+04,\n",
       "       1.44500000e+05, 1.46500000e+05, 3.05000000e+05, 1.04000000e+05,\n",
       "       4.17500000e+04, 1.48500000e+05, 1.53500000e+05, 1.56500000e+05,\n",
       "       1.37500000e+05, 7.31875000e+04, 1.88500000e+05, 3.81000000e+05,\n",
       "       1.94500000e+05, 1.61500000e+05, 1.66500000e+05, 1.44000000e+05,\n",
       "       4.98000000e+05, 3.25000000e+05, 4.28000000e+05, 1.69500000e+05,\n",
       "       1.71500000e+05, 2.65222222e+04, 4.52500000e+04, 3.18333333e+04,\n",
       "       4.77500000e+04, 4.73333333e+04, 2.28750000e+04, 5.65357143e+04,\n",
       "       1.86500000e+05, 1.00000000e+03, 3.04900000e+03, 9.85370000e+04,\n",
       "       1.91500000e+05, 1.94000000e+05, 2.05000000e+05, 2.06500000e+05,\n",
       "       2.11500000e+05, 3.60000000e+05, 3.02000000e+04, 8.93333333e+04,\n",
       "       2.16500000e+05, 2.24500000e+05, 2.26500000e+05, 2.36500000e+05,\n",
       "       3.96076250e+04, 1.30000000e+03, 1.41400000e+03, 2.41500000e+05,\n",
       "       2.51500000e+05, 2.07500000e+04, 3.37000000e+05, 2.61500000e+05,\n",
       "       2.86500000e+05, 2.89500000e+05, 1.42500000e+04, 2.91500000e+05,\n",
       "       4.01500000e+05, 4.06500000e+05, 4.31500000e+05, 7.72500000e+05,\n",
       "       8.75000000e+04, 1.52000000e+05, 9.05000000e+04, 8.65000000e+04,\n",
       "       1.09500000e+05, 5.38750000e+04, 6.83600000e+04, 9.11250000e+04,\n",
       "       2.92790698e+04, 4.99288571e+04, 1.36142857e+05, 1.06250000e+05,\n",
       "       5.83642857e+04, 1.15333333e+05, 9.46666667e+04, 1.01333333e+05,\n",
       "       3.60678571e+04, 4.51666667e+04, 5.81875000e+04, 1.07166667e+05,\n",
       "       8.37142857e+04, 1.04333333e+05, 1.62500000e+03, 3.37500000e+04,\n",
       "       4.45000000e+05, 6.22000000e+04, 8.93000000e+04, 5.16000000e+04,\n",
       "       7.48000000e+05, 2.33333333e+04, 3.35000000e+05, 4.56666667e+04,\n",
       "       1.14375000e+05, 5.00000000e+05, 2.39500000e+04, 4.18000000e+04,\n",
       "       2.06000000e+05, 1.50300000e+03, 5.82222222e+04, 3.00000000e+05,\n",
       "       4.02500000e+04, 1.20000000e+03, 3.84285714e+04, 5.60080000e+04,\n",
       "       6.26666667e+04, 4.56000000e+04, 3.77200000e+03, 1.18500000e+05,\n",
       "       9.50000000e+03, 3.26970588e+04, 1.72500000e+05, 1.93333333e+05,\n",
       "       8.84000000e+02, 2.35700000e+03, 8.55666667e+04, 6.67500000e+04,\n",
       "       6.30833333e+04, 2.14100000e+03, 1.18333333e+04, 0.00000000e+00,\n",
       "       1.72000000e+05, 5.68282500e+04, 7.50000000e+03, 1.97000000e+05,\n",
       "       6.96666667e+04, 4.23333333e+04, 2.31400000e+03, 1.07407667e+05,\n",
       "       1.93666667e+05, 1.49300000e+03, 1.53375000e+05, 1.31666667e+05,\n",
       "       2.31000000e+04, 5.62272727e+04, 6.58333333e+04, 2.04900000e+03,\n",
       "       6.73333333e+04, 3.14166667e+04, 1.67500000e+05, 8.00000000e+05,\n",
       "       1.05500000e+05, 1.15500000e+05, 1.49500000e+05, 4.60500000e+05,\n",
       "       5.20000000e+05, 1.17501250e+05, 8.61000000e+04, 1.22500000e+04,\n",
       "       1.31300000e+03, 2.47000000e+05, 6.02500000e+04, 4.27500000e+05,\n",
       "       1.46600000e+05, 4.31250000e+04, 8.34000000e+04, 2.46500000e+03,\n",
       "       9.68333333e+04, 3.52000000e+04, 1.51900000e+03, 3.92500000e+04,\n",
       "       1.34500000e+03, 1.00200000e+03, 6.01333333e+04, 2.19100000e+03,\n",
       "       1.77500000e+04, 9.66666667e+04, 2.66666667e+04, 1.37000000e+05,\n",
       "       3.22500000e+04, 2.00500000e+05, 1.65000000e+04, 3.51666667e+04,\n",
       "       4.68000000e+05, 6.10000000e+05, 3.90000000e+05, 4.32500000e+04,\n",
       "       6.28666667e+04, 3.89990000e+04, 1.44000000e+03, 6.62500000e+04,\n",
       "       7.00000000e+05, 4.65000000e+05, 3.85000000e+05, 7.31000000e+04,\n",
       "       2.26000000e+05, 1.19700000e+03, 2.15000000e+05, 1.18937500e+05,\n",
       "       1.47000000e+05, 4.23000000e+05, 2.18333333e+04, 1.04666667e+05,\n",
       "       2.71942000e+04, 1.92500000e+04, 8.46666667e+04, 1.66666667e+05,\n",
       "       5.31666667e+04, 5.56666667e+04, 1.21416667e+05, 1.70000000e+03,\n",
       "       1.26200000e+03, 4.59000000e+05, 2.06900000e+03, 7.87500000e+04,\n",
       "       5.42500000e+04, 4.73000000e+04, 4.55384615e+04, 4.90363333e+04,\n",
       "       2.35000000e+04, 9.12500000e+04, 4.71666667e+04, 1.39000000e+04,\n",
       "       9.57500000e+04, 9.32500000e+04, 7.42500000e+04, 6.03333333e+04,\n",
       "       5.81666667e+04, 3.78888889e+04, 2.95000000e+05, 4.50000000e+03,\n",
       "       6.01666667e+04, 1.87200000e+03, 7.53333333e+04, 3.28921569e+04,\n",
       "       1.32500000e+03, 1.95900000e+03, 1.43333333e+05, 1.34000000e+05,\n",
       "       3.85416667e+04, 3.32500000e+04, 4.92500000e+04, 5.77727273e+04,\n",
       "       2.66500000e+03, 3.56666667e+04, 4.94166667e+04, 2.77500000e+04,\n",
       "       9.29990000e+04, 5.24166667e+04, 4.25000000e+05, 4.30625000e+04,\n",
       "       5.06666667e+04, 5.10000000e+05, 2.96000000e+05, 1.20375000e+05,\n",
       "       5.50000000e+03, 3.08077500e+04, 8.25000000e+03, 2.41000000e+05,\n",
       "       3.76666667e+04, 4.83333333e+04, 2.84270270e+04, 2.33300000e+03,\n",
       "       1.29100000e+05, 4.37500000e+04, 7.59375000e+04, 4.45163333e+04,\n",
       "       2.00000000e+03, 1.23600000e+03, 1.64000000e+03, 4.44444444e+04,\n",
       "       5.79000000e+04, 8.50000000e+05, 5.75000000e+05, 1.90500000e+05,\n",
       "       7.93750000e+04, 4.61666667e+04, 7.03750000e+04, 3.84900000e+05,\n",
       "       3.03333333e+04, 2.18500000e+05, 2.37000000e+05, 9.25000000e+04,\n",
       "       5.46250000e+04, 1.48400000e+05, 3.02500000e+04, 1.95450000e+04,\n",
       "       1.36400000e+03, 1.12800000e+03, 1.50000000e+03, 8.82500000e+04,\n",
       "       5.44000000e+04, 1.15005000e+05, 7.33333333e+04, 1.62500000e+05,\n",
       "       8.47500000e+04, 1.01500000e+05, 1.10666667e+05, 4.41428571e+04,\n",
       "       8.42500000e+04, 2.05000000e+04, 1.07833333e+05, 3.46666667e+04,\n",
       "       1.59500000e+03, 7.73333333e+04, 1.16750000e+05, 2.43333333e+04,\n",
       "       3.57142857e+05, 1.80000000e+03, 2.12200000e+03, 2.67500000e+04,\n",
       "       1.47750000e+05, 2.70000000e+03, 1.01300000e+03, 1.88750000e+05,\n",
       "       3.68586667e+04, 2.82000000e+03, 1.53200000e+03, 4.06666667e+04,\n",
       "       1.43000000e+03, 3.08750000e+04, 5.00000000e+02, 4.80716562e+04,\n",
       "       1.08333333e+05, 4.87500000e+04, 1.55000000e+03, 6.66250000e+04,\n",
       "       2.56000000e+03, 1.76833333e+05, 9.50000000e+02, 2.45000000e+03,\n",
       "       6.99166667e+04, 1.30750000e+05, 1.04800000e+05, 2.47900000e+03,\n",
       "       8.27500000e+04, 3.10000000e+03, 2.69000000e+03, 4.94000000e+04,\n",
       "       5.37500000e+04, 1.36800000e+03, 4.86000000e+04, 7.29100000e+04,\n",
       "       8.50000000e+02, 9.93000000e+02, 5.63113333e+04, 1.04600000e+03,\n",
       "       7.48750000e+04, 1.15800000e+03, 4.22220000e+04, 1.75600000e+03,\n",
       "       8.18333333e+04, 2.09300000e+03, 1.08600000e+03, 1.47300000e+03,\n",
       "       2.82500000e+04, 9.58000000e+04, 1.00000000e+00])"
      ]
     },
     "execution_count": 12,
     "metadata": {},
     "output_type": "execute_result"
    }
   ],
   "source": [
    "df['Price'].unique()"
   ]
  },
  {
   "cell_type": "code",
   "execution_count": 13,
   "metadata": {
    "colab": {
     "base_uri": "https://localhost:8080/"
    },
    "id": "He7aY2LSUdZ0",
    "outputId": "51265894-1da8-4279-a0dc-b61a18da59b2"
   },
   "outputs": [
    {
     "data": {
      "text/plain": [
       "Gear_Type\n",
       "Automatic    7069\n",
       "Manual       1105\n",
       "Name: count, dtype: int64"
      ]
     },
     "execution_count": 13,
     "metadata": {},
     "output_type": "execute_result"
    }
   ],
   "source": [
    "df['Gear_Type'].value_counts()"
   ]
  },
  {
   "cell_type": "code",
   "execution_count": 14,
   "metadata": {
    "id": "w71di9nASoh2"
   },
   "outputs": [],
   "source": [
    "df['Origin'].replace(np.nan,'Saudi',inplace=True)\n",
    "df['Options'].replace(np.nan,'Full',inplace=True)\n",
    "df['Gear_Type'].replace(np.nan,'Automatic',inplace=True)"
   ]
  },
  {
   "cell_type": "code",
   "execution_count": 15,
   "metadata": {
    "id": "2yMc1845IuPP"
   },
   "outputs": [],
   "source": [
    "df['Make'].replace(['Chrysler', 'Nissan', 'Hyundai', 'Honda', 'Toyota', 'GMC',\n",
    "       'Chevrolet', 'Mercedes', 'MINI', 'Lexus', 'Land Rover', 'Mazda',\n",
    "       'Ford', 'Kia', 'Genesis', 'Cadillac', 'Geely', 'MG', 'Jeep',\n",
    "       'INFINITI', 'Dodge', 'Ferrari', 'Great Wall', 'Jaguar', 'GAC',\n",
    "       'Renault', 'Suzuki', 'Peugeot', 'Changan', 'HAVAL', 'BMW',\n",
    "       'Rolls-Royce', 'Porsche', 'Mitsubishi', 'Isuzu', 'Subaru',\n",
    "       'Zhengzhou', 'Audi', 'Lincoln', 'Volkswagen', 'Daihatsu', 'Fiat',\n",
    "       'Bentley', 'FAW', 'Chery', 'Aston Martin', 'Pontiac', 'Mercury',\n",
    "       'BYD', 'Classic', 'SsangYong', 'Hummer', 'Other', 'Maserati',\n",
    "       'Lifan', 'Foton', 'Tata', 'Victory Auto', 'Škoda', 'JAC', 'Iveco',\n",
    "       'Volvo', 'Ashok', 'MAN', 'Buick'],set(range(0, 65)),inplace=True)\n",
    "df['Type'].replace(['C300', 'Patrol', 'Sunny', 'Elantra', 'Accord', 'Land Cruiser',\n",
    "       'Yukon', 'Impala', 'Yaris', 'Camry', 'Tahoe', 'CLA', 'E', 'Accent',\n",
    "       'Corolla', 'Copper', 'Prado', 'Civic', 'Furniture', 'RX',\n",
    "       'Range Rover', 'Avalon', 'Bus Urvan', 'Aurion', 'Malibu', 'Rav4',\n",
    "       'CX9', 'Expedition', 'ES', 'Cadenza', 'Tucson', 'Platinum', 'G80',\n",
    "       'Sonata', 'LX', 'Senta fe', 'GX', 'Azera', 'CT-S', 'EC7', 'ZS',\n",
    "       'Kona', 'Grand Cherokee', 'Optima', 'S', 'M', 'Charger', 'Taurus',\n",
    "       'GTB 599 Fiorano', 'Suburban', 'Royal', 'Picanto', 'Power',\n",
    "       'Datsun', 'F-Pace', 'Hilux', 'FJ', 'Explorer', 'Land Cruiser 70',\n",
    "       'GS8', 'Maxima', 'Caprice', 'Challenger', 'Camaro', 'Symbol',\n",
    "       'Fluence', '6', 'RX5', 'APV', '3008', 'SRX', 'Cerato', 'Traverse',\n",
    "       'Marquis', 'Innova', 'Sierra', 'F150', 'Genesis', 'NX', 'C', 'G70',\n",
    "       'Flex', 'UX', 'Dyna', 'Cores', 'Creta', 'Rio', 'Odyssey', 'EC8',\n",
    "       'Sylvian Bus', 'CT6', 'H1', 'Ciocca', 'Land Cruiser Pickup',\n",
    "       'Cressida', 'Sportage', 'Duster', 'Seven', 'GLC', 'Carnival', 'H6',\n",
    "       '300', 'The 7', 'Spark', 'Z370', 'Victoria', 'Ghost', '911',\n",
    "       'Attrage', 'Focus', 'X-Trail', 'Forester', 'CX5', 'Pick up', 'ML',\n",
    "       'The 4', 'GS', 'Pajero', 'Acadia', 'City', 'Echo Sport', 'Vego',\n",
    "       'The 5', 'Silverado', 'A5', 'Cherokee', 'Altima', 'X', 'Navigator',\n",
    "       'Wrangler', 'G', 'XT5', 'Cruze', 'Navara', 'Touareg', 'Gran Max',\n",
    "       'Escalade', 'Cayenne S', 'Aveo', 'Soul', 'Durango', 'Montero',\n",
    "       'Prestige', 'Sentra', 'Dokker', 'Veloster', 'Fusion', 'Capture',\n",
    "       'Pathfinder', 'Seltos', 'Behbehani', 'LS', 'Emgrand', 'Carenz',\n",
    "       'SEL', 'The 6', 'SL', 'H2', 'Fiorino', 'Nativa', 'Talisman',\n",
    "       'Corvette', 'CL', 'Blazer', 'Mustang', '5008', 'CX3', 'Bentayga',\n",
    "       'A', 'T77', 'Optra', 'Trailblazer', 'Safrane', 'QX', 'Pilot',\n",
    "       'Tiggo', 'Ranger', 'H9', 'Eado', 'GLE', 'MKS', 'CT5', 'VTC',\n",
    "       'Panamera', 'CS35', 'Toyota 86', 'Coolray', 'Countryman', 'D-MAX',\n",
    "       'Azkarra', 'Partner', '301', 'A6', 'Previa', 'X-Terra', 'Other',\n",
    "       'Hiace', 'Maybach', 'V7', 'CS75', 'Flying Spur', 'Outlander', 'GT',\n",
    "       'Sorento', 'Vanquish', 'Safari', 'K5', 'Vantage', 'HRV', '3', 'Q5',\n",
    "       'CT4', 'MKX', 'S5', 'X7', 'CS95', 'Rush', '2', 'Delta', 'IS',\n",
    "       'Cayenne', 'CS35 Plus', 'SE', 'KICKS', 'Q', 'CS85', 'Armada',\n",
    "       'Opirus', 'Echo', 'Avanza', 'GLB', 'Terios Ground', 'Abeka',\n",
    "       'Bonneville', '5', 'S300', 'Corolla Cross', 'Koleos', '308',\n",
    "       'MR-V', 'Town Car', 'Compass', 'Edge', 'Grand Marquis', 'A8',\n",
    "       'Grand Vitara', 'Mohave', 'X Type', 'Lumina', 'Tiida', '500',\n",
    "       'Macan', 'Savana', 'Passat', 'CLS', 'Stinger', 'Viano', 'A3', 'S8',\n",
    "       'RX8', 'XJR', 'RC', 'MKZ', 'CC', 'Coaster', 'C-HR', 'S7', 'Wingle',\n",
    "       'Terrain', 'Colorado', 'Ram', 'Vitara', 'Juke', 'C200', 'FX',\n",
    "       'Terios', 'Fleetwood', 'Milan', 'Cayman', 'Boxer', 'ATS',\n",
    "       'Cadillac', 'Rexton', 'H3', 'Tundra', 'Envoy', 'T60', 'Prius',\n",
    "       'Montero2', 'Jaguar', 'Osa Bus', 'F3', 'XF', 'Gamble', 'The 3',\n",
    "       'Koranado', 'L200', 'Crown', 'Lancer', '360', 'Jimny', 'Q7', 'XJ',\n",
    "       'LF X60', 'Town and Country', 'Van', 'Patriot', 'GL', 'The M',\n",
    "       'Arnage', 'ASX', 'F Type', 'Golf', 'E350', 'Coupe S', 'Freestar',\n",
    "       'Camargue', 'Doblo', '4Runner', 'M300', 'ALB', 'Actros', 'DTS',\n",
    "       'Avalanche', 'Bus County', 'Prestige Plus', 'BT-50', 'H-2', 'Z',\n",
    "       'Avante', 'Discovery', 'A4', 'B50', 'K4000G', 'Sprinter',\n",
    "       'Quattroporte', 'Bronco', 'Dakota', 'Beetle', 'Coupe', 'Mini Van',\n",
    "       'Continental GT', 'Ertiga', 'GS3', 'Defender', 'A7', 'Gloria',\n",
    "       'SLK', 'Tuscani', 'POS24', 'Kaptiva', 'Murano', 'DB9', 'Levante',\n",
    "       'Jetta', 'H100', 'GLA', 'Transit', 'Sienna LE', 'CRV',\n",
    "       'Thunderbird', '350', 'Nexon', 'i40', 'Cayenne Turbo S', 'Tiguan',\n",
    "       'GC7', 'STS', 'Super Carry', 'Logan', 'i10', 'L300', 'Dzire',\n",
    "       'LR2', 'Centennial', 'Axor', 'Cayenne Turbo', 'Mini Cooper',\n",
    "       'Z350', 'Nitro', 'Van R', '323', 'Crosstour', 'SX4', 'Suvana',\n",
    "       'Liberty', 'X40', 'Montero1', 'Bus', 'Megane', 'Fabia', 'Atego',\n",
    "       'J5', 'Van Express', 'Daily', 'Carens', 'New Yorker', 'FH', 'G330',\n",
    "       'Caprice Classic', 'Commander', 'The 1', 'Sedona',\n",
    "       'Cayenne Turbo GTS', 'Grand Voyager', 'SRT', 'Bora', 'HS', \"D'max\",\n",
    "       'Silvia', 'Eldorado', 'Pegas', 'Palisade', 'Celerio', 'Leyland',\n",
    "       'Big Truck', 'XC90', 'C5700', 'Superb', 'GS4', 'The LS', 'Linea',\n",
    "       'Fuso Canter', 'Veracruz', '307', 'S6', 'Space Star', 'Riviera',\n",
    "       'ِACTIS V80', 'CX7', 'R', 'QQ', 'Galant', 'Trafic', 'Carry'],set(range(0, 435)),inplace=True)\n",
    "df['Origin'].replace(['Saudi', 'Gulf Arabic', 'Other'],set(range(0, 3)),inplace=True)\n",
    "df['Color'].replace(['Black', 'White', 'Silver', 'Grey', 'Navy', 'Bronze', 'Red',\n",
    "       'Another Color', 'Golden', 'Brown', 'Blue', 'Oily', 'Green',\n",
    "       'Yellow', 'Orange'],set(range(0, 15)),inplace=True)\n",
    "df['Options'].replace(['Full', 'Standard', 'Semi Full'],set(range(0, 3)),inplace=True)\n",
    "df['Fuel_Type'].replace(['Gas', 'Diesel', 'Hybrid'],set(range(0, 3)),inplace=True)\n",
    "df['Gear_Type'].replace(['Automatic', 'Manual'],set(range(0, 2)),inplace=True)\n",
    "df['Condition'].replace(['Used'],set(range(0, 1)),inplace=True)\n",
    "df['Region'].replace(['Riyadh', 'Jeddah', 'Dammam', 'Al-Medina', 'Qassim', 'Makkah',\n",
    "       'Jazan', 'Aseer', 'Hail', 'Taef', 'Al-Ahsa', 'Abha', 'Sabya',\n",
    "       'Besha', 'Khobar', 'Tabouk', 'Al-Baha', 'Hafar Al-Batin', 'Yanbu',\n",
    "       'Jubail', 'Al-Jouf', 'Arar', 'Najran', 'Al-Namas', 'Qurayyat',\n",
    "       'Wadi Dawasir', 'Sakaka'],set(range(0, 27)),inplace=True)\n",
    "df['Negotiable'] = df['Negotiable'].astype('int64')"
   ]
  },
  {
   "cell_type": "code",
   "execution_count": 16,
   "metadata": {
    "colab": {
     "base_uri": "https://localhost:8080/"
    },
    "id": "bLG6hx1Em5uZ",
    "outputId": "0b09ce82-21ed-4f7a-d861-7e28840405dc"
   },
   "outputs": [
    {
     "name": "stdout",
     "output_type": "stream",
     "text": [
      "<class 'pandas.core.frame.DataFrame'>\n",
      "RangeIndex: 8248 entries, 0 to 8247\n",
      "Data columns (total 16 columns):\n",
      " #   Column              Non-Null Count  Dtype  \n",
      "---  ------              --------------  -----  \n",
      " 0   Make                8248 non-null   int64  \n",
      " 1   Type                8248 non-null   int64  \n",
      " 2   Year                8248 non-null   int64  \n",
      " 3   Origin              8248 non-null   int64  \n",
      " 4   Color               8248 non-null   int64  \n",
      " 5   Options             8248 non-null   int64  \n",
      " 6   Engine_Size         5982 non-null   float64\n",
      " 7   Fuel_Type           8248 non-null   int64  \n",
      " 8   Gear_Type           8248 non-null   int64  \n",
      " 9   Condition           8248 non-null   int64  \n",
      " 10  Mileage             8248 non-null   int64  \n",
      " 11  Region              8248 non-null   int64  \n",
      " 12  Price               8248 non-null   float64\n",
      " 13  Negotiable          8248 non-null   int64  \n",
      " 14  Engine_Size_isnull  8248 non-null   int64  \n",
      " 15  Options_isnull      8248 non-null   int32  \n",
      "dtypes: float64(2), int32(1), int64(13)\n",
      "memory usage: 998.9 KB\n"
     ]
    }
   ],
   "source": [
    "df.info()"
   ]
  },
  {
   "cell_type": "code",
   "execution_count": 17,
   "metadata": {
    "colab": {
     "base_uri": "https://localhost:8080/"
    },
    "id": "xtYOknyWrG2P",
    "outputId": "29c942a8-ec94-4f75-9ece-ad2c08453ea7"
   },
   "outputs": [
    {
     "data": {
      "text/plain": [
       "Make                  0\n",
       "Type                  0\n",
       "Year                  0\n",
       "Origin                0\n",
       "Color                 0\n",
       "Options               0\n",
       "Engine_Size           0\n",
       "Fuel_Type             0\n",
       "Gear_Type             0\n",
       "Condition             0\n",
       "Mileage               0\n",
       "Region                0\n",
       "Price                 0\n",
       "Negotiable            0\n",
       "Engine_Size_isnull    0\n",
       "Options_isnull        0\n",
       "dtype: int64"
      ]
     },
     "execution_count": 17,
     "metadata": {},
     "output_type": "execute_result"
    }
   ],
   "source": [
    "df2 = df.dropna(subset = ['Engine_Size'])\n",
    "df2.isnull().sum()"
   ]
  },
  {
   "cell_type": "code",
   "execution_count": 18,
   "metadata": {
    "colab": {
     "base_uri": "https://localhost:8080/"
    },
    "id": "3po7FdIwrymQ",
    "outputId": "e07849a9-a560-4efd-eea3-d4be9049a94d"
   },
   "outputs": [
    {
     "name": "stdout",
     "output_type": "stream",
     "text": [
      "<class 'pandas.core.frame.DataFrame'>\n",
      "Index: 2266 entries, 13 to 8245\n",
      "Data columns (total 16 columns):\n",
      " #   Column              Non-Null Count  Dtype  \n",
      "---  ------              --------------  -----  \n",
      " 0   Make                2266 non-null   int64  \n",
      " 1   Type                2266 non-null   int64  \n",
      " 2   Year                2266 non-null   int64  \n",
      " 3   Origin              2266 non-null   int64  \n",
      " 4   Color               2266 non-null   int64  \n",
      " 5   Options             2266 non-null   int64  \n",
      " 6   Engine_Size         0 non-null      float64\n",
      " 7   Fuel_Type           2266 non-null   int64  \n",
      " 8   Gear_Type           2266 non-null   int64  \n",
      " 9   Condition           2266 non-null   int64  \n",
      " 10  Mileage             2266 non-null   int64  \n",
      " 11  Region              2266 non-null   int64  \n",
      " 12  Price               2266 non-null   float64\n",
      " 13  Negotiable          2266 non-null   int64  \n",
      " 14  Engine_Size_isnull  2266 non-null   int64  \n",
      " 15  Options_isnull      2266 non-null   int32  \n",
      "dtypes: float64(2), int32(1), int64(13)\n",
      "memory usage: 292.1 KB\n"
     ]
    }
   ],
   "source": [
    "df3 = df[df['Engine_Size'].isna()]\n",
    "df3.info()"
   ]
  },
  {
   "cell_type": "code",
   "execution_count": 19,
   "metadata": {
    "colab": {
     "base_uri": "https://localhost:8080/"
    },
    "id": "Nwc-cFVbAEd3",
    "outputId": "5a29f026-e7db-4c8d-8e8f-d7f1216a6827"
   },
   "outputs": [
    {
     "name": "stdout",
     "output_type": "stream",
     "text": [
      "Validation Mean Squared Error: 1.7797144763338577\n",
      "Validation R-squared: 0.22039990256128472\n"
     ]
    }
   ],
   "source": [
    "from sklearn.model_selection import train_test_split\n",
    "from sklearn.linear_model import LinearRegression\n",
    "from sklearn.metrics import mean_squared_error\n",
    "from sklearn.metrics import r2_score\n",
    "\n",
    "X_train, X_val, y_train, y_val = train_test_split(df2.drop('Engine_Size', axis=1), df2['Engine_Size'], test_size=0.08, random_state=42)\n",
    "\n",
    "model = LinearRegression()\n",
    "model.fit(X_train, y_train)\n",
    "\n",
    "y_val_pred = model.predict(X_val)\n",
    "\n",
    "mse_val = mean_squared_error(y_val, y_val_pred)\n",
    "print(f\"Validation Mean Squared Error: {mse_val}\")\n",
    "r2_val = r2_score(y_val, y_val_pred)\n",
    "print(f\"Validation R-squared: {r2_val}\")\n",
    "\n",
    "x_test = df3.drop('Engine_Size', axis=1)\n",
    "y_test_pred = model.predict(x_test)"
   ]
  },
  {
   "cell_type": "code",
   "execution_count": 20,
   "metadata": {
    "colab": {
     "base_uri": "https://localhost:8080/"
    },
    "id": "fXiaa-JtslFV",
    "outputId": "d40adb34-a8f2-4db1-a497-8768f620a6da"
   },
   "outputs": [
    {
     "data": {
      "text/plain": [
       "array([3.98033219, 3.65357133, 4.38075936, ..., 3.12563714, 3.46450182,\n",
       "       4.3161146 ])"
      ]
     },
     "execution_count": 20,
     "metadata": {},
     "output_type": "execute_result"
    }
   ],
   "source": [
    "y_test_pred"
   ]
  },
  {
   "cell_type": "code",
   "execution_count": 21,
   "metadata": {
    "colab": {
     "base_uri": "https://localhost:8080/"
    },
    "id": "0r5hINABlZX2",
    "outputId": "3d557525-3a1a-410d-a1a8-91e914f6c6cb"
   },
   "outputs": [
    {
     "name": "stderr",
     "output_type": "stream",
     "text": [
      "C:\\Users\\Abady\\AppData\\Local\\Temp\\ipykernel_19332\\930538844.py:1: SettingWithCopyWarning: \n",
      "A value is trying to be set on a copy of a slice from a DataFrame.\n",
      "Try using .loc[row_indexer,col_indexer] = value instead\n",
      "\n",
      "See the caveats in the documentation: https://pandas.pydata.org/pandas-docs/stable/user_guide/indexing.html#returning-a-view-versus-a-copy\n",
      "  df3['Engine_Size'] = y_test_pred.round(1)\n"
     ]
    }
   ],
   "source": [
    "df3['Engine_Size'] = y_test_pred.round(1)"
   ]
  },
  {
   "cell_type": "code",
   "execution_count": 22,
   "metadata": {
    "colab": {
     "base_uri": "https://localhost:8080/"
    },
    "id": "GIfwFvZ6oL77",
    "outputId": "c4a2281f-e596-462d-eb40-b2095ccfcb19"
   },
   "outputs": [
    {
     "data": {
      "text/plain": [
       "0"
      ]
     },
     "execution_count": 22,
     "metadata": {},
     "output_type": "execute_result"
    }
   ],
   "source": [
    "df3['Engine_Size'].isnull().sum()"
   ]
  },
  {
   "cell_type": "code",
   "execution_count": 23,
   "metadata": {
    "colab": {
     "base_uri": "https://localhost:8080/"
    },
    "id": "LXvwT-jLoUCQ",
    "outputId": "00a40eea-eaf7-45d6-e30b-8c9114f8b9ff"
   },
   "outputs": [
    {
     "data": {
      "text/plain": [
       "13      4.0\n",
       "29      3.7\n",
       "42      4.4\n",
       "60      2.6\n",
       "72      2.3\n",
       "       ... \n",
       "8230    3.3\n",
       "8236    2.5\n",
       "8243    3.1\n",
       "8244    3.5\n",
       "8245    4.3\n",
       "Name: Engine_Size, Length: 2266, dtype: float64"
      ]
     },
     "execution_count": 23,
     "metadata": {},
     "output_type": "execute_result"
    }
   ],
   "source": [
    "df3['Engine_Size']"
   ]
  },
  {
   "cell_type": "code",
   "execution_count": 24,
   "metadata": {
    "colab": {
     "base_uri": "https://localhost:8080/",
     "height": 443
    },
    "id": "6pDaNNqjpChR",
    "outputId": "9b437b21-f0f6-4750-f286-9e986f176ddc"
   },
   "outputs": [
    {
     "data": {
      "text/html": [
       "<div>\n",
       "<style scoped>\n",
       "    .dataframe tbody tr th:only-of-type {\n",
       "        vertical-align: middle;\n",
       "    }\n",
       "\n",
       "    .dataframe tbody tr th {\n",
       "        vertical-align: top;\n",
       "    }\n",
       "\n",
       "    .dataframe thead th {\n",
       "        text-align: right;\n",
       "    }\n",
       "</style>\n",
       "<table border=\"1\" class=\"dataframe\">\n",
       "  <thead>\n",
       "    <tr style=\"text-align: right;\">\n",
       "      <th></th>\n",
       "      <th>Make</th>\n",
       "      <th>Type</th>\n",
       "      <th>Year</th>\n",
       "      <th>Origin</th>\n",
       "      <th>Color</th>\n",
       "      <th>Options</th>\n",
       "      <th>Engine_Size</th>\n",
       "      <th>Fuel_Type</th>\n",
       "      <th>Gear_Type</th>\n",
       "      <th>Condition</th>\n",
       "      <th>Mileage</th>\n",
       "      <th>Region</th>\n",
       "      <th>Price</th>\n",
       "      <th>Negotiable</th>\n",
       "      <th>Engine_Size_isnull</th>\n",
       "      <th>Options_isnull</th>\n",
       "    </tr>\n",
       "  </thead>\n",
       "  <tbody>\n",
       "    <tr>\n",
       "      <th>13</th>\n",
       "      <td>7</td>\n",
       "      <td>11</td>\n",
       "      <td>2020</td>\n",
       "      <td>2</td>\n",
       "      <td>1</td>\n",
       "      <td>1</td>\n",
       "      <td>4.0</td>\n",
       "      <td>0</td>\n",
       "      <td>0</td>\n",
       "      <td>0</td>\n",
       "      <td>20000</td>\n",
       "      <td>0</td>\n",
       "      <td>235000.000000</td>\n",
       "      <td>0</td>\n",
       "      <td>1</td>\n",
       "      <td>0</td>\n",
       "    </tr>\n",
       "    <tr>\n",
       "      <th>29</th>\n",
       "      <td>4</td>\n",
       "      <td>21</td>\n",
       "      <td>2008</td>\n",
       "      <td>2</td>\n",
       "      <td>6</td>\n",
       "      <td>0</td>\n",
       "      <td>3.7</td>\n",
       "      <td>0</td>\n",
       "      <td>0</td>\n",
       "      <td>0</td>\n",
       "      <td>169000</td>\n",
       "      <td>0</td>\n",
       "      <td>30000.000000</td>\n",
       "      <td>1</td>\n",
       "      <td>1</td>\n",
       "      <td>0</td>\n",
       "    </tr>\n",
       "    <tr>\n",
       "      <th>42</th>\n",
       "      <td>4</td>\n",
       "      <td>5</td>\n",
       "      <td>1993</td>\n",
       "      <td>0</td>\n",
       "      <td>5</td>\n",
       "      <td>2</td>\n",
       "      <td>4.4</td>\n",
       "      <td>0</td>\n",
       "      <td>1</td>\n",
       "      <td>0</td>\n",
       "      <td>400</td>\n",
       "      <td>15</td>\n",
       "      <td>12000.000000</td>\n",
       "      <td>0</td>\n",
       "      <td>1</td>\n",
       "      <td>0</td>\n",
       "    </tr>\n",
       "    <tr>\n",
       "      <th>60</th>\n",
       "      <td>2</td>\n",
       "      <td>35</td>\n",
       "      <td>2021</td>\n",
       "      <td>0</td>\n",
       "      <td>4</td>\n",
       "      <td>2</td>\n",
       "      <td>2.6</td>\n",
       "      <td>0</td>\n",
       "      <td>0</td>\n",
       "      <td>0</td>\n",
       "      <td>2200</td>\n",
       "      <td>0</td>\n",
       "      <td>77943.537102</td>\n",
       "      <td>1</td>\n",
       "      <td>1</td>\n",
       "      <td>0</td>\n",
       "    </tr>\n",
       "    <tr>\n",
       "      <th>72</th>\n",
       "      <td>16</td>\n",
       "      <td>39</td>\n",
       "      <td>2014</td>\n",
       "      <td>0</td>\n",
       "      <td>8</td>\n",
       "      <td>0</td>\n",
       "      <td>2.3</td>\n",
       "      <td>0</td>\n",
       "      <td>1</td>\n",
       "      <td>0</td>\n",
       "      <td>161300</td>\n",
       "      <td>0</td>\n",
       "      <td>12000.000000</td>\n",
       "      <td>0</td>\n",
       "      <td>1</td>\n",
       "      <td>0</td>\n",
       "    </tr>\n",
       "    <tr>\n",
       "      <th>...</th>\n",
       "      <td>...</td>\n",
       "      <td>...</td>\n",
       "      <td>...</td>\n",
       "      <td>...</td>\n",
       "      <td>...</td>\n",
       "      <td>...</td>\n",
       "      <td>...</td>\n",
       "      <td>...</td>\n",
       "      <td>...</td>\n",
       "      <td>...</td>\n",
       "      <td>...</td>\n",
       "      <td>...</td>\n",
       "      <td>...</td>\n",
       "      <td>...</td>\n",
       "      <td>...</td>\n",
       "      <td>...</td>\n",
       "    </tr>\n",
       "    <tr>\n",
       "      <th>8230</th>\n",
       "      <td>12</td>\n",
       "      <td>57</td>\n",
       "      <td>2009</td>\n",
       "      <td>0</td>\n",
       "      <td>1</td>\n",
       "      <td>2</td>\n",
       "      <td>3.3</td>\n",
       "      <td>0</td>\n",
       "      <td>0</td>\n",
       "      <td>0</td>\n",
       "      <td>270000</td>\n",
       "      <td>0</td>\n",
       "      <td>20000.000000</td>\n",
       "      <td>1</td>\n",
       "      <td>1</td>\n",
       "      <td>0</td>\n",
       "    </tr>\n",
       "    <tr>\n",
       "      <th>8236</th>\n",
       "      <td>5</td>\n",
       "      <td>6</td>\n",
       "      <td>2019</td>\n",
       "      <td>0</td>\n",
       "      <td>3</td>\n",
       "      <td>0</td>\n",
       "      <td>2.5</td>\n",
       "      <td>0</td>\n",
       "      <td>0</td>\n",
       "      <td>0</td>\n",
       "      <td>50000</td>\n",
       "      <td>19</td>\n",
       "      <td>1.000000</td>\n",
       "      <td>0</td>\n",
       "      <td>1</td>\n",
       "      <td>0</td>\n",
       "    </tr>\n",
       "    <tr>\n",
       "      <th>8243</th>\n",
       "      <td>37</td>\n",
       "      <td>192</td>\n",
       "      <td>2015</td>\n",
       "      <td>0</td>\n",
       "      <td>2</td>\n",
       "      <td>0</td>\n",
       "      <td>3.1</td>\n",
       "      <td>0</td>\n",
       "      <td>0</td>\n",
       "      <td>0</td>\n",
       "      <td>77000</td>\n",
       "      <td>0</td>\n",
       "      <td>75000.000000</td>\n",
       "      <td>0</td>\n",
       "      <td>1</td>\n",
       "      <td>0</td>\n",
       "    </tr>\n",
       "    <tr>\n",
       "      <th>8244</th>\n",
       "      <td>6</td>\n",
       "      <td>63</td>\n",
       "      <td>2010</td>\n",
       "      <td>0</td>\n",
       "      <td>2</td>\n",
       "      <td>0</td>\n",
       "      <td>3.5</td>\n",
       "      <td>0</td>\n",
       "      <td>0</td>\n",
       "      <td>0</td>\n",
       "      <td>150000</td>\n",
       "      <td>0</td>\n",
       "      <td>53000.000000</td>\n",
       "      <td>0</td>\n",
       "      <td>1</td>\n",
       "      <td>0</td>\n",
       "    </tr>\n",
       "    <tr>\n",
       "      <th>8245</th>\n",
       "      <td>4</td>\n",
       "      <td>5</td>\n",
       "      <td>2013</td>\n",
       "      <td>1</td>\n",
       "      <td>1</td>\n",
       "      <td>0</td>\n",
       "      <td>4.3</td>\n",
       "      <td>0</td>\n",
       "      <td>0</td>\n",
       "      <td>0</td>\n",
       "      <td>260</td>\n",
       "      <td>22</td>\n",
       "      <td>123653.846154</td>\n",
       "      <td>1</td>\n",
       "      <td>1</td>\n",
       "      <td>0</td>\n",
       "    </tr>\n",
       "  </tbody>\n",
       "</table>\n",
       "<p>2266 rows × 16 columns</p>\n",
       "</div>"
      ],
      "text/plain": [
       "      Make  Type  Year  Origin  Color  Options  Engine_Size  Fuel_Type  \\\n",
       "13       7    11  2020       2      1        1          4.0          0   \n",
       "29       4    21  2008       2      6        0          3.7          0   \n",
       "42       4     5  1993       0      5        2          4.4          0   \n",
       "60       2    35  2021       0      4        2          2.6          0   \n",
       "72      16    39  2014       0      8        0          2.3          0   \n",
       "...    ...   ...   ...     ...    ...      ...          ...        ...   \n",
       "8230    12    57  2009       0      1        2          3.3          0   \n",
       "8236     5     6  2019       0      3        0          2.5          0   \n",
       "8243    37   192  2015       0      2        0          3.1          0   \n",
       "8244     6    63  2010       0      2        0          3.5          0   \n",
       "8245     4     5  2013       1      1        0          4.3          0   \n",
       "\n",
       "      Gear_Type  Condition  Mileage  Region          Price  Negotiable  \\\n",
       "13            0          0    20000       0  235000.000000           0   \n",
       "29            0          0   169000       0   30000.000000           1   \n",
       "42            1          0      400      15   12000.000000           0   \n",
       "60            0          0     2200       0   77943.537102           1   \n",
       "72            1          0   161300       0   12000.000000           0   \n",
       "...         ...        ...      ...     ...            ...         ...   \n",
       "8230          0          0   270000       0   20000.000000           1   \n",
       "8236          0          0    50000      19       1.000000           0   \n",
       "8243          0          0    77000       0   75000.000000           0   \n",
       "8244          0          0   150000       0   53000.000000           0   \n",
       "8245          0          0      260      22  123653.846154           1   \n",
       "\n",
       "      Engine_Size_isnull  Options_isnull  \n",
       "13                     1               0  \n",
       "29                     1               0  \n",
       "42                     1               0  \n",
       "60                     1               0  \n",
       "72                     1               0  \n",
       "...                  ...             ...  \n",
       "8230                   1               0  \n",
       "8236                   1               0  \n",
       "8243                   1               0  \n",
       "8244                   1               0  \n",
       "8245                   1               0  \n",
       "\n",
       "[2266 rows x 16 columns]"
      ]
     },
     "execution_count": 24,
     "metadata": {},
     "output_type": "execute_result"
    }
   ],
   "source": [
    "df3"
   ]
  },
  {
   "cell_type": "code",
   "execution_count": null,
   "metadata": {
    "id": "eiI6Aec8s0Wb"
   },
   "outputs": [],
   "source": []
  }
 ],
 "metadata": {
  "colab": {
   "provenance": []
  },
  "kernelspec": {
   "display_name": "Python 3 (ipykernel)",
   "language": "python",
   "name": "python3"
  },
  "language_info": {
   "codemirror_mode": {
    "name": "ipython",
    "version": 3
   },
   "file_extension": ".py",
   "mimetype": "text/x-python",
   "name": "python",
   "nbconvert_exporter": "python",
   "pygments_lexer": "ipython3",
   "version": "3.11.5"
  }
 },
 "nbformat": 4,
 "nbformat_minor": 4
}
